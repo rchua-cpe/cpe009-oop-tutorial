{
 "cells": [
  {
   "cell_type": "markdown",
   "metadata": {},
   "source": [
    "# CPE 009 - Programming Tutorials (Conditional Statements)"
   ]
  },
  {
   "cell_type": "markdown",
   "metadata": {},
   "source": [
    "## 1. Boolean Expressions (review)\n",
    "Boolean expressions can occur when the **Relational** and **Boolean Operators** are between one or more values that only return either a **True** or **False** value."
   ]
  },
  {
   "cell_type": "code",
   "execution_count": 1,
   "metadata": {},
   "outputs": [
    {
     "name": "stdout",
     "output_type": "stream",
     "text": [
      "False\n",
      "False\n",
      "True\n",
      "True\n",
      "False\n",
      "True\n"
     ]
    }
   ],
   "source": [
    "# Relational Operators (>,>=,<,<=,!=)\n",
    "print(2 > 3) \n",
    "print(2 >= 3)\n",
    "print(2 < 3)\n",
    "print(2 <= 3)\n",
    "print(2 == 3)\n",
    "print(2 != 3)"
   ]
  },
  {
   "cell_type": "markdown",
   "metadata": {},
   "source": [
    "Boolean operators are more often used to combine multiple expressions with Relational Operators"
   ]
  },
  {
   "cell_type": "code",
   "execution_count": 2,
   "metadata": {},
   "outputs": [
    {
     "name": "stdout",
     "output_type": "stream",
     "text": [
      "True\n",
      "True\n"
     ]
    }
   ],
   "source": [
    "# Boolean Operators (and, or, not)\n",
    "grade = 52\n",
    "print(grade >= 50 and grade <= 100)\n",
    "# small comment: A boolean expression can also be stored in a variable, but most of times uncessary\n",
    "boolean_expression = grade >= 50 and grade <= 100\n",
    "print(boolean_expression)"
   ]
  },
  {
   "cell_type": "markdown",
   "metadata": {},
   "source": [
    "We can also call the **boolean_expression** variable as the condition variable."
   ]
  },
  {
   "cell_type": "code",
   "execution_count": 4,
   "metadata": {},
   "outputs": [
    {
     "name": "stdout",
     "output_type": "stream",
     "text": [
      "True\n"
     ]
    }
   ],
   "source": [
    "condition = grade >= 50 and grade <= 100\n",
    "print(condition)"
   ]
  },
  {
   "cell_type": "markdown",
   "metadata": {},
   "source": [
    "## 2. if statments\n",
    "If statements allow you to execute specific code and functionality when a certain condition is True. It has the following syntax structure:\n",
    "``` python\n",
    "if condition == True:\n",
    "    # execute all the code over here if condition is True\n",
    "```\n",
    "After executing the code under it, the if statement will revert to reading the code below back on the main line."
   ]
  },
  {
   "cell_type": "code",
   "execution_count": 3,
   "metadata": {
    "scrolled": true
   },
   "outputs": [
    {
     "name": "stdout",
     "output_type": "stream",
     "text": [
      "You pass\n",
      "Go back here after executing the if statement\n"
     ]
    }
   ],
   "source": [
    "# Example: Pass or Fail\n",
    "grade = 50\n",
    "if grade >= 50:\n",
    "    print(\"You pass\")\n",
    "print(\"Go back here after executing the if statement\")"
   ]
  },
  {
   "cell_type": "markdown",
   "metadata": {},
   "source": [
    "What happens when we have a grade greater than 100? Is the result reasonable?"
   ]
  },
  {
   "cell_type": "code",
   "execution_count": 6,
   "metadata": {},
   "outputs": [
    {
     "name": "stdout",
     "output_type": "stream",
     "text": [
      "You pass\n",
      "Go back here after executing the if statement\n"
     ]
    }
   ],
   "source": [
    "## TRY IT YOURSELF\n",
    "## Try to modify the code to not include grades greater than 100\n",
    "grade = 50\n",
    "if grade >= 50:\n",
    "    print(\"You pass\")\n",
    "print(\"Go back here after executing the if statement\")"
   ]
  },
  {
   "cell_type": "markdown",
   "metadata": {},
   "source": [
    "What if we want to also print a message for those with grades below?"
   ]
  },
  {
   "cell_type": "markdown",
   "metadata": {},
   "source": [
    "## 2. The if elif statement\n",
    "We can accomodate multiple conditions by using elif statements. It has the following sytnax.\n",
    "``` python\n",
    "if condition == False:\n",
    "    print(\"It won't print this one\")\n",
    "elif condition == True:\n",
    "    print(\"It will instead go to the next elif statement that's true\")\n",
    "```\n",
    "These can be stacked.\n",
    "``` python\n",
    "if condition == False:\n",
    "    print(\"It won't print this one\")\n",
    "elif condition == False:\n",
    "    print(\"It will instead go to the next elif statement that's true\")    \n",
    "elif condition == True:\n",
    "    print(\"This is is the one that will get executed\")\n",
    "```"
   ]
  },
  {
   "cell_type": "markdown",
   "metadata": {},
   "source": [
    "**Note:** Once the if or elif statement becomes **True** the rest of the elif statements below get ignored."
   ]
  },
  {
   "cell_type": "code",
   "execution_count": 7,
   "metadata": {},
   "outputs": [
    {
     "name": "stdout",
     "output_type": "stream",
     "text": [
      "You fail\n"
     ]
    }
   ],
   "source": [
    "# Example: Pass or Fail\n",
    "grade = 49\n",
    "# Is grade between 50 and 100 (inclusive)\n",
    "if grade >= 50 and grade <= 100:\n",
    "    print(\"You pass\")\n",
    "elif grade < 50:\n",
    "    print(\"You fail\")"
   ]
  },
  {
   "cell_type": "markdown",
   "metadata": {},
   "source": [
    "Similar to before, what happens when we have a grade that is less than 0? Like a negative grade. Is the result reasonable?"
   ]
  },
  {
   "cell_type": "code",
   "execution_count": 8,
   "metadata": {},
   "outputs": [
    {
     "name": "stdout",
     "output_type": "stream",
     "text": [
      "You fail\n"
     ]
    }
   ],
   "source": [
    "## TRY IT YOURSELF\n",
    "## Try to modify the code to not include grades lower than 0 in the \"You fail\" message.\n",
    "grade = 49\n",
    "# Is grade between 50 and 100 (inclusive)\n",
    "if grade >= 50 and grade <= 100:\n",
    "    print(\"You pass\")\n",
    "elif grade < 50:\n",
    "    print(\"You fail\")"
   ]
  },
  {
   "cell_type": "markdown",
   "metadata": {},
   "source": [
    "What if we wanted to address any value that is non-related to the input range we need? \n",
    " \n",
    "For example, we wanted to say \"Your input grade is not within 0-100.\" How would we implement this?"
   ]
  },
  {
   "cell_type": "code",
   "execution_count": 11,
   "metadata": {},
   "outputs": [
    {
     "name": "stdout",
     "output_type": "stream",
     "text": [
      "Your input grade is not within 0-100.\n"
     ]
    }
   ],
   "source": [
    "# Example: Pass or Fail\n",
    "grade = -65\n",
    "# Is grade between 50 and 100 (inclusive)\n",
    "if grade >= 50 and grade <= 100:\n",
    "    print(\"You pass\")\n",
    "# Is grade between 0 and 49 (inclusive)\n",
    "elif grade < 50 and grade >= 0:\n",
    "    print(\"You fail\")\n",
    "elif grade > 100 or grade < 0:\n",
    "    print(\"Your input grade is not within 0-100.\")"
   ]
  },
  {
   "cell_type": "markdown",
   "metadata": {},
   "source": [
    "Decent solution (at least for this problem), but we can do better."
   ]
  },
  {
   "cell_type": "markdown",
   "metadata": {},
   "source": [
    "## 3. The if elif else statement or if else\n",
    "If you need to add like a default message for any other values the entered that you can't specifically anticipate or expect anymore, we can make use of an else statement."
   ]
  },
  {
   "cell_type": "code",
   "execution_count": 14,
   "metadata": {},
   "outputs": [
    {
     "name": "stdout",
     "output_type": "stream",
     "text": [
      "Your input grade is not within 0-100.\n",
      "More convenient in handling other cases you can't expect.\n"
     ]
    }
   ],
   "source": [
    "# Example: Pass or Fail\n",
    "grade = 101\n",
    "# Is grade between 50 and 100 (inclusive)\n",
    "if grade >= 50 and grade <= 100:\n",
    "    print(\"You pass\")\n",
    "# Is grade between 0 and 49 (inclusive)\n",
    "elif grade < 50 and grade >= 0:\n",
    "    print(\"You fail\")\n",
    "else: \n",
    "    print(\"Your input grade is not within 0-100.\")\n",
    "print(\"More convenient in handling other cases you can't expect.\")"
   ]
  },
  {
   "cell_type": "markdown",
   "metadata": {},
   "source": [
    "## Note #1: You cannot use elif and else without using if first. \n",
    "## Note #2: The order of if and elif conditions matter and should be considered in some condition senstive programs."
   ]
  },
  {
   "cell_type": "code",
   "execution_count": 16,
   "metadata": {},
   "outputs": [
    {
     "name": "stdout",
     "output_type": "stream",
     "text": [
      "Pass or Fail\n",
      "Enter the grade: 12\n",
      "You fail\n"
     ]
    }
   ],
   "source": [
    "# Pass of Fail (Complete)\n",
    "print(\"Pass or Fail\")\n",
    "grade = int(input(\"Enter the grade: \"))\n",
    "if grade >= 50 and grade <= 100:\n",
    "    print(\"You pass\")\n",
    "elif grade < 50 and grade >= 0:\n",
    "    print(\"You fail\")\n",
    "else: \n",
    "    print(\"Your input grade is not within 0-100.\")"
   ]
  },
  {
   "cell_type": "markdown",
   "metadata": {},
   "source": [
    "© 2020 Made by Royce Chua. All rights reserved."
   ]
  }
 ],
 "metadata": {
  "kernelspec": {
   "display_name": "Python 3",
   "language": "python",
   "name": "python3"
  },
  "language_info": {
   "codemirror_mode": {
    "name": "ipython",
    "version": 3
   },
   "file_extension": ".py",
   "mimetype": "text/x-python",
   "name": "python",
   "nbconvert_exporter": "python",
   "pygments_lexer": "ipython3",
   "version": "3.7.4"
  }
 },
 "nbformat": 4,
 "nbformat_minor": 2
}
