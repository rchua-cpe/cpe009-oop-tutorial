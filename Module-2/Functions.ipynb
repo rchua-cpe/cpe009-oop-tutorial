{
 "cells": [
  {
   "cell_type": "markdown",
   "metadata": {},
   "source": [
    "## Object-Oriented Programming Tutorials (Functions)\n",
    "We will be exploring functions in this notebook and how to make code more modular, cleaner, and more maintainable."
   ]
  },
  {
   "cell_type": "markdown",
   "metadata": {},
   "source": [
    "As a review of fundamental concepts, **Functions** are lines of code that are grouped in such a way you can call those codes anytime. This is particularly useful for tasks you might need to do over and over again.\n",
    "\n",
    "One bad practice is to copy and paste your code repeatedly in different parts of the program. When you get tired, then you'll realize it was bad. This ends up in a mess called Spaghetti code. Functions provides a solution to that as you'll realize later as we progress in the notebook. "
   ]
  },
  {
   "cell_type": "markdown",
   "metadata": {},
   "source": [
    "## Built-in functions\n",
    "Built-in functions are groups of code or functionality that is readily available when you make your program in this case, a Python program. Without talking about it in detail we've alredy used a lot of them."
   ]
  },
  {
   "cell_type": "markdown",
   "metadata": {},
   "source": [
    "## help() function\n",
    "Proivdes you documentation behind the functions and also classes that we use both built-in "
   ]
  },
  {
   "cell_type": "code",
   "execution_count": 1,
   "metadata": {},
   "outputs": [
    {
     "name": "stdout",
     "output_type": "stream",
     "text": [
      "Help on built-in function print in module builtins:\n",
      "\n",
      "print(...)\n",
      "    print(value, ..., sep=' ', end='\\n', file=sys.stdout, flush=False)\n",
      "    \n",
      "    Prints the values to a stream, or to sys.stdout by default.\n",
      "    Optional keyword arguments:\n",
      "    file:  a file-like object (stream); defaults to the current sys.stdout.\n",
      "    sep:   string inserted between values, default a space.\n",
      "    end:   string appended after the last value, default a newline.\n",
      "    flush: whether to forcibly flush the stream.\n",
      "\n"
     ]
    }
   ],
   "source": [
    "# We've also done this in the previous notebook\n",
    "help(print)"
   ]
  },
  {
   "cell_type": "markdown",
   "metadata": {},
   "source": [
    "The ```print()``` function is one code we can call immediately without importing or including any other files as it is built into the interpreter. I chose print because the documentation was short."
   ]
  },
  {
   "cell_type": "code",
   "execution_count": 7,
   "metadata": {},
   "outputs": [
    {
     "name": "stdout",
     "output_type": "stream",
     "text": [
      "Help on method raw_input in module ipykernel.kernelbase:\n",
      "\n",
      "raw_input(prompt='') method of ipykernel.ipkernel.IPythonKernel instance\n",
      "    Forward raw_input to frontends\n",
      "    \n",
      "    Raises\n",
      "    ------\n",
      "    StdinNotImplentedError if active frontend doesn't support stdin.\n",
      "\n"
     ]
    }
   ],
   "source": [
    "# Another example\n",
    "help(input)"
   ]
  },
  {
   "cell_type": "code",
   "execution_count": 8,
   "metadata": {},
   "outputs": [
    {
     "name": "stdout",
     "output_type": "stream",
     "text": [
      "Help on class list in module builtins:\n",
      "\n",
      "class list(object)\n",
      " |  list(iterable=(), /)\n",
      " |  \n",
      " |  Built-in mutable sequence.\n",
      " |  \n",
      " |  If no argument is given, the constructor creates a new empty list.\n",
      " |  The argument must be an iterable if specified.\n",
      " |  \n",
      " |  Methods defined here:\n",
      " |  \n",
      " |  __add__(self, value, /)\n",
      " |      Return self+value.\n",
      " |  \n",
      " |  __contains__(self, key, /)\n",
      " |      Return key in self.\n",
      " |  \n",
      " |  __delitem__(self, key, /)\n",
      " |      Delete self[key].\n",
      " |  \n",
      " |  __eq__(self, value, /)\n",
      " |      Return self==value.\n",
      " |  \n",
      " |  __ge__(self, value, /)\n",
      " |      Return self>=value.\n",
      " |  \n",
      " |  __getattribute__(self, name, /)\n",
      " |      Return getattr(self, name).\n",
      " |  \n",
      " |  __getitem__(...)\n",
      " |      x.__getitem__(y) <==> x[y]\n",
      " |  \n",
      " |  __gt__(self, value, /)\n",
      " |      Return self>value.\n",
      " |  \n",
      " |  __iadd__(self, value, /)\n",
      " |      Implement self+=value.\n",
      " |  \n",
      " |  __imul__(self, value, /)\n",
      " |      Implement self*=value.\n",
      " |  \n",
      " |  __init__(self, /, *args, **kwargs)\n",
      " |      Initialize self.  See help(type(self)) for accurate signature.\n",
      " |  \n",
      " |  __iter__(self, /)\n",
      " |      Implement iter(self).\n",
      " |  \n",
      " |  __le__(self, value, /)\n",
      " |      Return self<=value.\n",
      " |  \n",
      " |  __len__(self, /)\n",
      " |      Return len(self).\n",
      " |  \n",
      " |  __lt__(self, value, /)\n",
      " |      Return self<value.\n",
      " |  \n",
      " |  __mul__(self, value, /)\n",
      " |      Return self*value.\n",
      " |  \n",
      " |  __ne__(self, value, /)\n",
      " |      Return self!=value.\n",
      " |  \n",
      " |  __repr__(self, /)\n",
      " |      Return repr(self).\n",
      " |  \n",
      " |  __reversed__(self, /)\n",
      " |      Return a reverse iterator over the list.\n",
      " |  \n",
      " |  __rmul__(self, value, /)\n",
      " |      Return value*self.\n",
      " |  \n",
      " |  __setitem__(self, key, value, /)\n",
      " |      Set self[key] to value.\n",
      " |  \n",
      " |  __sizeof__(self, /)\n",
      " |      Return the size of the list in memory, in bytes.\n",
      " |  \n",
      " |  append(self, object, /)\n",
      " |      Append object to the end of the list.\n",
      " |  \n",
      " |  clear(self, /)\n",
      " |      Remove all items from list.\n",
      " |  \n",
      " |  copy(self, /)\n",
      " |      Return a shallow copy of the list.\n",
      " |  \n",
      " |  count(self, value, /)\n",
      " |      Return number of occurrences of value.\n",
      " |  \n",
      " |  extend(self, iterable, /)\n",
      " |      Extend list by appending elements from the iterable.\n",
      " |  \n",
      " |  index(self, value, start=0, stop=9223372036854775807, /)\n",
      " |      Return first index of value.\n",
      " |      \n",
      " |      Raises ValueError if the value is not present.\n",
      " |  \n",
      " |  insert(self, index, object, /)\n",
      " |      Insert object before index.\n",
      " |  \n",
      " |  pop(self, index=-1, /)\n",
      " |      Remove and return item at index (default last).\n",
      " |      \n",
      " |      Raises IndexError if list is empty or index is out of range.\n",
      " |  \n",
      " |  remove(self, value, /)\n",
      " |      Remove first occurrence of value.\n",
      " |      \n",
      " |      Raises ValueError if the value is not present.\n",
      " |  \n",
      " |  reverse(self, /)\n",
      " |      Reverse *IN PLACE*.\n",
      " |  \n",
      " |  sort(self, /, *, key=None, reverse=False)\n",
      " |      Stable sort *IN PLACE*.\n",
      " |  \n",
      " |  ----------------------------------------------------------------------\n",
      " |  Static methods defined here:\n",
      " |  \n",
      " |  __new__(*args, **kwargs) from builtins.type\n",
      " |      Create and return a new object.  See help(type) for accurate signature.\n",
      " |  \n",
      " |  ----------------------------------------------------------------------\n",
      " |  Data and other attributes defined here:\n",
      " |  \n",
      " |  __hash__ = None\n",
      "\n"
     ]
    }
   ],
   "source": [
    "# Last Example, though this one's long, we can understand where were getting the codes we've used last time.\n",
    "help(list)"
   ]
  },
  {
   "cell_type": "markdown",
   "metadata": {},
   "source": [
    "**Notice:** When we don't need the function to run we don't add the (), take note of this because I won't be introducing the syntax of a function until later."
   ]
  },
  {
   "cell_type": "markdown",
   "metadata": {},
   "source": [
    "## I/O Functions\n",
    "print() and input() we've already seen them. Although we take them for granted, the code to make them work isn't actually as simple as it looks and you don't want to be bothered copying and pasting the code inside print() and input() just to do those simple yet essential tasks."
   ]
  },
  {
   "cell_type": "code",
   "execution_count": 10,
   "metadata": {},
   "outputs": [
    {
     "name": "stdout",
     "output_type": "stream",
     "text": [
      "Display this String value to the screen.\n",
      "This too!\n",
      "Forgot this too!\n"
     ]
    }
   ],
   "source": [
    "print(\"Display this String value to the screen.\")\n",
    "print(\"This too!\")\n",
    "print(\"Forgot this too!\")"
   ]
  },
  {
   "cell_type": "code",
   "execution_count": 12,
   "metadata": {},
   "outputs": [
    {
     "name": "stdout",
     "output_type": "stream",
     "text": [
      "I am the prompt, I came to give you tips on what to enter in the keyboard: asd\n",
      "asd\n"
     ]
    }
   ],
   "source": [
    "# The input function won't be useful unless we store the input in a variable.\n",
    "message = input(\"I am the prompt, I came to give you tips on what to enter in the keyboard: \")\n",
    "print(message)"
   ]
  },
  {
   "cell_type": "markdown",
   "metadata": {},
   "source": [
    "## Data Type Converter Functions\n",
    "Functions used to convert one data type to another instantly."
   ]
  },
  {
   "cell_type": "code",
   "execution_count": 20,
   "metadata": {},
   "outputs": [
    {
     "data": {
      "text/plain": [
       "{'1': 'Royce', '2': 'Joe'}"
      ]
     },
     "execution_count": 20,
     "metadata": {},
     "output_type": "execute_result"
    }
   ],
   "source": [
    "# Besides, int() and float(), there's also the following converter. You can try modifying the code to study.mb\n",
    "int(\"2\")\n",
    "float(\"2.12\")\n",
    "list((1, 2, 3, 4, 5))\n",
    "tuple([1, 2, 3, 4, 5])\n",
    "str(12.213)\n",
    "dict([[\"1\", \"Royce\"],[\"2\", \"Joe\"]])"
   ]
  },
  {
   "cell_type": "markdown",
   "metadata": {},
   "source": [
    "## eval() function\n",
    "The eval() function is applied to a string and it treats the string like Python code to be interpreted. It can evaluate the expression it will eventually result in a value based from computations or just simply whatever data type the string matches in Python."
   ]
  },
  {
   "cell_type": "code",
   "execution_count": 25,
   "metadata": {},
   "outputs": [
    {
     "name": "stdout",
     "output_type": "stream",
     "text": [
      "Enter any formula involving x & y: (x-y)/2\n",
      "2.5\n"
     ]
    }
   ],
   "source": [
    "# We have two variables x and y \n",
    "# We will ask the user for a random formula on what to do with them.\n",
    "x, y = 2, -3\n",
    "# Try anything like x+y, x-y and other legitimate Python expression\n",
    "expression = input(\"Enter any formula involving x & y: \")\n",
    "result = eval(expression)\n",
    "print(result)"
   ]
  },
  {
   "cell_type": "code",
   "execution_count": 26,
   "metadata": {},
   "outputs": [
    {
     "name": "stdout",
     "output_type": "stream",
     "text": [
      "Enter a matrix[]: [[5,4],[6,7]]\n",
      "[[5, 4], [6, 7]]\n",
      "<class 'list'>\n"
     ]
    }
   ],
   "source": [
    "# Another nifty example\n",
    "# In linear algebra, if we want to mimic a 2x2 matrix in Python just using lists\n",
    "matrxA = [[1, 2], [3, 4]]\n",
    "# If we were to ask a matrix from the user it would be hard to put those numbers in a list like that.\n",
    "# We can simplify it using eval()\n",
    "matrixB = eval(input(\"Enter a matrix[]: \"))\n",
    "print(matrixB)\n",
    "print(type(matrixB))"
   ]
  },
  {
   "cell_type": "markdown",
   "metadata": {},
   "source": [
    "## len() for sequences\n",
    "len() used to count the number of elements in a sequence."
   ]
  },
  {
   "cell_type": "code",
   "execution_count": 21,
   "metadata": {},
   "outputs": [
    {
     "name": "stdout",
     "output_type": "stream",
     "text": [
      "5\n"
     ]
    }
   ],
   "source": [
    "print(len([1, 2, 3, 4, 5]))"
   ]
  },
  {
   "cell_type": "code",
   "execution_count": 23,
   "metadata": {},
   "outputs": [
    {
     "name": "stdout",
     "output_type": "stream",
     "text": [
      "{'1': 'Royce', '2': 'Joe'}\n",
      "2\n"
     ]
    }
   ],
   "source": [
    "students = dict([[\"1\", \"Royce\"],[\"2\", \"Joe\"]])\n",
    "print(students)\n",
    "# len() counts the number of keys\n",
    "print(len(students))"
   ]
  },
  {
   "cell_type": "markdown",
   "metadata": {},
   "source": [
    "## Summary for Built-in functions\n",
    "Although there is a lot more built-in functions to use, I leave the duty to explore upon you according to what you may need. In Summary, built-in functions provide programmer's comfort and a headstart by allowing us to repeatedly call certain functionalities like print() and input(). This ultimately allows us move on building more complex programs."
   ]
  },
  {
   "cell_type": "markdown",
   "metadata": {},
   "source": [
    "## User-defined functions\n",
    "The developers of Python can't possibly know what every single person, developer, business, company needs so we could actually create our own functions to perform custom things not included by default in Python.\n",
    "\n",
    "The syntax for creating a custom function in its simplest form is\n",
    "``` python\n",
    "def function_name():\n",
    "    # write lines of code here\n",
    "    # can take as many lines as you need\n",
    "```\n",
    "**Note:** When you use **def** there should be a function there otherwise it will result an error unless you use the **pass** keyword. "
   ]
  },
  {
   "cell_type": "code",
   "execution_count": 81,
   "metadata": {},
   "outputs": [
    {
     "ename": "SyntaxError",
     "evalue": "unexpected EOF while parsing (<ipython-input-81-483ef5e92395>, line 1)",
     "output_type": "error",
     "traceback": [
      "\u001b[0;36m  File \u001b[0;32m\"<ipython-input-81-483ef5e92395>\"\u001b[0;36m, line \u001b[0;32m1\u001b[0m\n\u001b[0;31m    def function_name():\u001b[0m\n\u001b[0m                        ^\u001b[0m\n\u001b[0;31mSyntaxError\u001b[0m\u001b[0;31m:\u001b[0m unexpected EOF while parsing\n"
     ]
    }
   ],
   "source": [
    "# So that you can save yourself some errors later on\n",
    "# this will result in an error, you cannot create a function with nothing in it.\n",
    "def function_name():"
   ]
  },
  {
   "cell_type": "code",
   "execution_count": 84,
   "metadata": {},
   "outputs": [],
   "source": [
    "# This will work, pass says that I want this function to exist but I don't \n",
    "# have anything to put in it, so just reserve it for me but don't do anything.\n",
    "def function_name():\n",
    "    pass"
   ]
  },
  {
   "cell_type": "markdown",
   "metadata": {},
   "source": [
    "Let's create a simple greeter function"
   ]
  },
  {
   "cell_type": "code",
   "execution_count": 30,
   "metadata": {},
   "outputs": [],
   "source": [
    "def greet():\n",
    "    print(\"Welcome programmer!\")"
   ]
  },
  {
   "cell_type": "markdown",
   "metadata": {},
   "source": [
    "To actually make it work, call it just like you would a print function."
   ]
  },
  {
   "cell_type": "code",
   "execution_count": 31,
   "metadata": {},
   "outputs": [
    {
     "name": "stdout",
     "output_type": "stream",
     "text": [
      "Welcome programmer!\n"
     ]
    }
   ],
   "source": [
    "greet()"
   ]
  },
  {
   "cell_type": "markdown",
   "metadata": {},
   "source": [
    "Call it as many times as you want!"
   ]
  },
  {
   "cell_type": "code",
   "execution_count": 32,
   "metadata": {},
   "outputs": [
    {
     "name": "stdout",
     "output_type": "stream",
     "text": [
      "Welcome programmer!\n",
      "Welcome programmer!\n",
      "Welcome programmer!\n"
     ]
    }
   ],
   "source": [
    "greet()\n",
    "greet()\n",
    "greet()"
   ]
  },
  {
   "cell_type": "markdown",
   "metadata": {},
   "source": [
    "## Function Paramters"
   ]
  },
  {
   "cell_type": "markdown",
   "metadata": {},
   "source": [
    "Though, looks a little dull, let's make it greet someone. Here's additional syntax about the **def** we can use.\n",
    "``` python\n",
    "# Basically parameter ... means how many you want or need\n",
    "def function_name(parameter1, paramater2, ... , parameterN):\n",
    "    # write lines of code here\n",
    "    # can take as many lines as you need    \n",
    "```\n",
    "Some notes about parameters:\n",
    "- parameters in Python can be any data type unless you explicity say what they should be.\n",
    "- parameters can assume default values otherwise you need really need to put values."
   ]
  },
  {
   "cell_type": "code",
   "execution_count": 39,
   "metadata": {},
   "outputs": [],
   "source": [
    "def greet2(name):\n",
    "    print(f\"Hello {name}!\")"
   ]
  },
  {
   "cell_type": "code",
   "execution_count": 34,
   "metadata": {},
   "outputs": [
    {
     "ename": "TypeError",
     "evalue": "greet2() missing 1 required positional argument: 'name'",
     "output_type": "error",
     "traceback": [
      "\u001b[0;31m---------------------------------------------------------------------------\u001b[0m",
      "\u001b[0;31mTypeError\u001b[0m                                 Traceback (most recent call last)",
      "\u001b[0;32m<ipython-input-34-b4134b9ba083>\u001b[0m in \u001b[0;36m<module>\u001b[0;34m\u001b[0m\n\u001b[0;32m----> 1\u001b[0;31m \u001b[0mgreet2\u001b[0m\u001b[0;34m(\u001b[0m\u001b[0;34m)\u001b[0m\u001b[0;34m\u001b[0m\u001b[0;34m\u001b[0m\u001b[0m\n\u001b[0m",
      "\u001b[0;31mTypeError\u001b[0m: greet2() missing 1 required positional argument: 'name'"
     ]
    }
   ],
   "source": [
    "# Unless you assign a default value in name or make it optional\n",
    "# , it will require you to enter a value.\n",
    "greet2()"
   ]
  },
  {
   "cell_type": "code",
   "execution_count": 40,
   "metadata": {},
   "outputs": [
    {
     "name": "stdout",
     "output_type": "stream",
     "text": [
      "Hello Royce!\n"
     ]
    }
   ],
   "source": [
    "greet2(\"Royce\")"
   ]
  },
  {
   "cell_type": "markdown",
   "metadata": {},
   "source": [
    "A function in Python may or may not return values. Sometimes we need the function to return a value if we need to use its output and sometimes we don't when we just want it to do a bunch of commands and just that."
   ]
  },
  {
   "cell_type": "code",
   "execution_count": 69,
   "metadata": {},
   "outputs": [],
   "source": [
    "# Return a value\n",
    "def add(x, y):\n",
    "    return x + y"
   ]
  },
  {
   "cell_type": "code",
   "execution_count": 71,
   "metadata": {},
   "outputs": [
    {
     "name": "stdout",
     "output_type": "stream",
     "text": [
      "The sum is 5\n"
     ]
    }
   ],
   "source": [
    "# add() in this case will return 5.\n",
    "sum = add(2,3)\n",
    "print(f\"The sum is {sum}\")"
   ]
  },
  {
   "cell_type": "code",
   "execution_count": 90,
   "metadata": {},
   "outputs": [
    {
     "name": "stdout",
     "output_type": "stream",
     "text": [
      "The sum is 5\n"
     ]
    }
   ],
   "source": [
    "# As a side-note\n",
    "# We can explicitly mention the parameters we want to put the values in\n",
    "sum = add(x=2, y=3)\n",
    "print(f\"The sum is {sum}\")"
   ]
  },
  {
   "cell_type": "markdown",
   "metadata": {},
   "source": [
    "**Note:** The dynamic type that can be passed can have some problems in the future."
   ]
  },
  {
   "cell_type": "code",
   "execution_count": 72,
   "metadata": {},
   "outputs": [
    {
     "name": "stdout",
     "output_type": "stream",
     "text": [
      "The sum is 23\n"
     ]
    }
   ],
   "source": [
    "sum = add(\"2\",\"3\")\n",
    "print(f\"The sum is {sum}\")"
   ]
  },
  {
   "cell_type": "markdown",
   "metadata": {},
   "source": [
    "This is kind of behavior wrong and should be prevented. Unfortunately for a Dynamically Typed Language like Python, we need to check the data type explicitly or manually."
   ]
  },
  {
   "cell_type": "code",
   "execution_count": 77,
   "metadata": {},
   "outputs": [],
   "source": [
    "# Return a value\n",
    "def add2(x, y):\n",
    "    if type(x) is int and type(y) is int:\n",
    "        return x + y\n",
    "    else:\n",
    "        # raise statement raises an error\n",
    "        raise TypeError(\"Only integers are allowed\") "
   ]
  },
  {
   "cell_type": "markdown",
   "metadata": {},
   "source": [
    "**Note:** An alternative to ***type(x) is int and type(y) is int*** is ***type(x) == type(int) and type(y) == type(int)***. You may try to change it."
   ]
  },
  {
   "cell_type": "code",
   "execution_count": 78,
   "metadata": {
    "scrolled": true
   },
   "outputs": [
    {
     "ename": "TypeError",
     "evalue": "Only integers are allowed",
     "output_type": "error",
     "traceback": [
      "\u001b[0;31m---------------------------------------------------------------------------\u001b[0m",
      "\u001b[0;31mTypeError\u001b[0m                                 Traceback (most recent call last)",
      "\u001b[0;32m<ipython-input-78-c2dc5e9ff5f2>\u001b[0m in \u001b[0;36m<module>\u001b[0;34m\u001b[0m\n\u001b[1;32m      1\u001b[0m \u001b[0;31m# A serious error can already be prevented early on\u001b[0m\u001b[0;34m\u001b[0m\u001b[0;34m\u001b[0m\u001b[0;34m\u001b[0m\u001b[0m\n\u001b[0;32m----> 2\u001b[0;31m \u001b[0msum\u001b[0m \u001b[0;34m=\u001b[0m \u001b[0madd2\u001b[0m\u001b[0;34m(\u001b[0m\u001b[0;34m\"2\"\u001b[0m\u001b[0;34m,\u001b[0m\u001b[0;34m\"3\"\u001b[0m\u001b[0;34m)\u001b[0m\u001b[0;34m\u001b[0m\u001b[0;34m\u001b[0m\u001b[0m\n\u001b[0m\u001b[1;32m      3\u001b[0m \u001b[0mprint\u001b[0m\u001b[0;34m(\u001b[0m\u001b[0;34mf\"The sum is {sum}\"\u001b[0m\u001b[0;34m)\u001b[0m\u001b[0;34m\u001b[0m\u001b[0;34m\u001b[0m\u001b[0m\n",
      "\u001b[0;32m<ipython-input-77-885eca0fc2dc>\u001b[0m in \u001b[0;36madd2\u001b[0;34m(x, y)\u001b[0m\n\u001b[1;32m      5\u001b[0m     \u001b[0;32melse\u001b[0m\u001b[0;34m:\u001b[0m\u001b[0;34m\u001b[0m\u001b[0;34m\u001b[0m\u001b[0m\n\u001b[1;32m      6\u001b[0m         \u001b[0;31m# raise statement raises an error\u001b[0m\u001b[0;34m\u001b[0m\u001b[0;34m\u001b[0m\u001b[0;34m\u001b[0m\u001b[0m\n\u001b[0;32m----> 7\u001b[0;31m         \u001b[0;32mraise\u001b[0m \u001b[0mTypeError\u001b[0m\u001b[0;34m(\u001b[0m\u001b[0;34m\"Only integers are allowed\"\u001b[0m\u001b[0;34m)\u001b[0m\u001b[0;34m\u001b[0m\u001b[0;34m\u001b[0m\u001b[0m\n\u001b[0m",
      "\u001b[0;31mTypeError\u001b[0m: Only integers are allowed"
     ]
    }
   ],
   "source": [
    "# A serious error can already be prevented early on\n",
    "sum = add2(\"2\",\"3\")\n",
    "print(f\"The sum is {sum}\")"
   ]
  },
  {
   "cell_type": "markdown",
   "metadata": {},
   "source": [
    "Fixing problems and putting code that prevents a program from having serious problems or even crash is called **error-handling**."
   ]
  },
  {
   "cell_type": "markdown",
   "metadata": {},
   "source": [
    "## Default Parameter Values\n",
    "If we still want a function to work despite having no arguments passed to the parameters, we can add default values."
   ]
  },
  {
   "cell_type": "code",
   "execution_count": 79,
   "metadata": {},
   "outputs": [],
   "source": [
    "def greet2(name = \"Stranger\"):\n",
    "    print(f\"Hello {name}!\")"
   ]
  },
  {
   "cell_type": "code",
   "execution_count": 80,
   "metadata": {
    "scrolled": false
   },
   "outputs": [
    {
     "name": "stdout",
     "output_type": "stream",
     "text": [
      "Hello Stranger!\n"
     ]
    }
   ],
   "source": [
    "greet2()"
   ]
  },
  {
   "cell_type": "code",
   "execution_count": null,
   "metadata": {},
   "outputs": [],
   "source": [
    "## TRY IT YOURSELF\n",
    "# Try creating a function that can greet a list of people\n",
    "friends = [\"Joe\",] # Put more people here if you like\n",
    "def greet3():\n",
    "    # Remove pass and add your code here (apply what you've learned about lists)\n",
    "    pass"
   ]
  },
  {
   "cell_type": "markdown",
   "metadata": {},
   "source": [
    "## Accepting many parameters\n",
    "What if we cannot anticipate the number of people we'd like to greet?\n",
    "\n",
    "What if we cannot anticipate the number of arguments we might receive?\n",
    "\n",
    "Introducing the star * operator, nope it's not the multiplication operator so don't get confused. The asterisk * and double asterisk ** can be seen in different parts of Python throughout your journey in using the language. Let me atleast demystify the * operator inside a function."
   ]
  },
  {
   "cell_type": "code",
   "execution_count": 85,
   "metadata": {},
   "outputs": [],
   "source": [
    "def greeter(*args):\n",
    "    # look at what the star * operator did to args\n",
    "    print(args)\n",
    "    for name in args:\n",
    "        print(f\"Hello {name}!\")"
   ]
  },
  {
   "cell_type": "code",
   "execution_count": 86,
   "metadata": {},
   "outputs": [
    {
     "name": "stdout",
     "output_type": "stream",
     "text": [
      "('Joe', 'Mae', 'Carol', 'Mark')\n",
      "Hello Joe!\n",
      "Hello Mae!\n",
      "Hello Carol!\n",
      "Hello Mark!\n"
     ]
    }
   ],
   "source": [
    "greeter(\"Joe\",\"Mae\",\"Carol\",\"Mark\")"
   ]
  },
  {
   "cell_type": "markdown",
   "metadata": {},
   "source": [
    "Placing the star * operator in a parameter causes it to place all arguments passed into a tuple. I'm sure you'll find a particular use for this when building more complex programs. For now, just know that this exists and you can use it as a solution to some problems you'll encounter."
   ]
  },
  {
   "cell_type": "markdown",
   "metadata": {},
   "source": [
    "## Example: Bad Words Filter\n",
    "For example we want to create a custom function that would allow us to pass a sentence like message from a post or comment then we can automatically filter them out as a form of Censorship for kids. We will replace a bad word such as **stupid** into \\*\\*\\*\\*\\*\\* where the number of asterisk * is equal to the number of letters on the bad word.\n",
    "\n",
    "I'll give you an example of a function that displays some of what we've learned towards a real application and the rest you can apply in an exercise."
   ]
  },
  {
   "cell_type": "code",
   "execution_count": 101,
   "metadata": {},
   "outputs": [],
   "source": [
    "# Simple version\n",
    "def badWordsFilter(sentence, bad_words):\n",
    "    new_sentence = sentence\n",
    "    for bad_word in bad_words:\n",
    "        new_sentence = new_sentence.replace(bad_word, \"*\" * len(bad_word))\n",
    "    return new_sentence"
   ]
  },
  {
   "cell_type": "code",
   "execution_count": 102,
   "metadata": {
    "scrolled": true
   },
   "outputs": [
    {
     "name": "stdout",
     "output_type": "stream",
     "text": [
      "He is a ****** ***** that ****.\n"
     ]
    }
   ],
   "source": [
    "new_sentence = badWordsFilter(\"He is a stupid idiot that fool.\", [\"stupid\", \"idiot\", \"fool\"])\n",
    "print(new_sentence)"
   ]
  },
  {
   "cell_type": "code",
   "execution_count": 103,
   "metadata": {},
   "outputs": [
    {
     "name": "stdout",
     "output_type": "stream",
     "text": [
      "He is a Stupid Idiot that FOOL!.\n"
     ]
    }
   ],
   "source": [
    "# Let's find a corner-case like Stupid and Idiot capitals and FOOL pure uppercase\n",
    "new_sentence = badWordsFilter(\"He is a Stupid Idiot that FOOL!.\", [\"stupid\", \"idiot\", \"fool\"])\n",
    "print(new_sentence)"
   ]
  },
  {
   "cell_type": "markdown",
   "metadata": {},
   "source": [
    "When designing and implementing functions, we also need to consider corner-cases basically scenarios where we expect that the program might fail to display the right result. "
   ]
  },
  {
   "cell_type": "markdown",
   "metadata": {},
   "source": [
    "You can try to modify the Simple Version to solve this problem as your self-exercise but my final answer will be shown below (though it's not the only answer and this is not a perfect answer as this has limitations)."
   ]
  },
  {
   "cell_type": "code",
   "execution_count": 104,
   "metadata": {},
   "outputs": [],
   "source": [
    "# Polished and documented version\n",
    "def badWordsFilter(sentence, bad_words):\n",
    "    \"\"\" Bad Words Filter\n",
    "    This is a function that converts bad words in a sentence to asterisks *.\n",
    "    \n",
    "    Parameters: \n",
    "        sentence - A str value \n",
    "        bad_words - A list of bad words to censor.  \n",
    "    Limitations: \n",
    "        For now, we can't filter or censor words that uses numbers or special symbols for vowels like id!0t.\n",
    "    \"\"\"\n",
    "    new_sentence = sentence\n",
    "    for bad_word in bad_words:\n",
    "        new_sentence = new_sentence.replace(bad_word, \"*\" * len(bad_word))\n",
    "        new_sentence = new_sentence.replace(bad_word.capitalize(), \"*\" * len(bad_word))\n",
    "        new_sentence = new_sentence.replace(bad_word.upper(), \"*\" * len(bad_word))\n",
    "    return new_sentence    "
   ]
  },
  {
   "cell_type": "code",
   "execution_count": 107,
   "metadata": {
    "scrolled": true
   },
   "outputs": [
    {
     "name": "stdout",
     "output_type": "stream",
     "text": [
      "Help on function badWordsFilter in module __main__:\n",
      "\n",
      "badWordsFilter(sentence, bad_words)\n",
      "    Bad Words Filter\n",
      "    This is a function that converts bad words in a sentence to asterisks *.\n",
      "    \n",
      "    Parameters: \n",
      "        sentence - A str value \n",
      "        bad_words - A list of bad words to censor.  \n",
      "    Limitations: \n",
      "        For now, we can't filter or censor words that uses numbers or special symbols for vowels like id!0t.\n",
      "\n"
     ]
    }
   ],
   "source": [
    "# Let's first check the instructions\n",
    "help(badWordsFilter)"
   ]
  },
  {
   "cell_type": "code",
   "execution_count": 106,
   "metadata": {},
   "outputs": [
    {
     "name": "stdout",
     "output_type": "stream",
     "text": [
      "He is a ****** ***** that ****!.\n"
     ]
    }
   ],
   "source": [
    "# Let's find a corner-case like Stupid and Idiot capitals and FOOL pure uppercase\n",
    "new_sentence = badWordsFilter(\"He is a Stupid Idiot that FOOL!.\", [\"stupid\", \"idiot\", \"fool\"])\n",
    "print(new_sentence)"
   ]
  },
  {
   "cell_type": "markdown",
   "metadata": {},
   "source": [
    "**Note:** You need to consider more about corner cases to prevent your program from failing in the future as we call a **bug** or unintended behavior because a certain input or corner case wasn't considered. Though remember a perfect system doesn't exist there will always be some bugs as you continue to make larger more complicated programs you'll see that some bugs are easy to spot and easy to fix and some aren't visible or predictable until an error occurs. "
   ]
  },
  {
   "cell_type": "markdown",
   "metadata": {},
   "source": [
    "You need to consider a limitation like for this function that I made which you can improve or revise next time. Don't try to complicate things immediately by building a large bulky function or program, instead build in increments as what I did first a simple version which I can improve into the Polished version."
   ]
  },
  {
   "cell_type": "markdown",
   "metadata": {},
   "source": [
    "## Summary\n",
    "We've learned that functions essentially make us avoid unecessarily copy and paste code that we need to reuse in a program or even in different program. Using functions can make code cleaner and more maintainable because we can see what each function does spefically and can change only that functionality. Functions can be built-in or user-defined (made by user/programmer) and we can: output or return values that we can use from a function and/or accept arguments(inputs) from the user through function parameters which may or may not have default values."
   ]
  },
  {
   "cell_type": "markdown",
   "metadata": {},
   "source": [
    "## Additional References\n",
    "- https://www.programiz.com/python-programming/function\n",
    "- https://www.geeksforgeeks.org/args-kwargs-python/"
   ]
  },
  {
   "cell_type": "markdown",
   "metadata": {},
   "source": [
    "© 2020 Made by Royce Chua. All rights reserved."
   ]
  }
 ],
 "metadata": {
  "kernelspec": {
   "display_name": "Python 3",
   "language": "python",
   "name": "python3"
  },
  "language_info": {
   "codemirror_mode": {
    "name": "ipython",
    "version": 3
   },
   "file_extension": ".py",
   "mimetype": "text/x-python",
   "name": "python",
   "nbconvert_exporter": "python",
   "pygments_lexer": "ipython3",
   "version": "3.7.4"
  }
 },
 "nbformat": 4,
 "nbformat_minor": 2
}
