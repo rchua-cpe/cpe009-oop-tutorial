{
 "cells": [
  {
   "cell_type": "code",
   "execution_count": 3,
   "metadata": {
    "scrolled": true
   },
   "outputs": [
    {
     "name": "stdout",
     "output_type": "stream",
     "text": [
      "Celsius value is: 27.3\n",
      "Fahrenheit value is: 81.14\n",
      "Kelvin value is: 300.45\n"
     ]
    }
   ],
   "source": [
    "# This is a temperature converter program\n",
    "\n",
    "# Pre-assign the celsius value as mentioned in the instruction\n",
    "celsius = 27.3\n",
    "# Compute the value of the Fahrenheight equivalent and store it in fahrenheit\n",
    "fahrenheit = (celsius * (9/5)) + 32\n",
    "# Comptue the value of the Kelvin equivalent\n",
    "kelvin = celsius + 273.15\n",
    "# Display the value\n",
    "print(f\"Celsius value is: {celsius}\")\n",
    "print(f\"Fahrenheit value is: {fahrenheit}\")\n",
    "print(f\"Kelvin value is: {kelvin}\")"
   ]
  }
 ],
 "metadata": {
  "kernelspec": {
   "display_name": "Python 3",
   "language": "python",
   "name": "python3"
  },
  "language_info": {
   "codemirror_mode": {
    "name": "ipython",
    "version": 3
   },
   "file_extension": ".py",
   "mimetype": "text/x-python",
   "name": "python",
   "nbconvert_exporter": "python",
   "pygments_lexer": "ipython3",
   "version": "3.7.4"
  }
 },
 "nbformat": 4,
 "nbformat_minor": 2
}
