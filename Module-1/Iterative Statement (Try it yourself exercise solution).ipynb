{
 "cells": [
  {
   "cell_type": "code",
   "execution_count": 1,
   "metadata": {},
   "outputs": [
    {
     "name": "stdout",
     "output_type": "stream",
     "text": [
      "Enter the pin: 123\n",
      "Wrong\n",
      "Enter the pin: 123\n",
      "Wrong\n",
      "Enter the pin: 123\n",
      "Wrong\n"
     ]
    }
   ],
   "source": [
    "# Sample 1 incorrect\n",
    "correct_pin = \"1872\"\n",
    "for i in range(3):\n",
    "    input_pin = input(\"Enter the pin: \")\n",
    "    if input_pin == correct_pin:\n",
    "        print(\"Door open\")\n",
    "        break\n",
    "    else:\n",
    "        print(\"Wrong\")"
   ]
  },
  {
   "cell_type": "code",
   "execution_count": 2,
   "metadata": {},
   "outputs": [
    {
     "name": "stdout",
     "output_type": "stream",
     "text": [
      "Enter the pin: 312\n",
      "Wrong\n",
      "Enter the pin: 1872\n",
      "Door open\n"
     ]
    }
   ],
   "source": [
    "# Sample 2 correct\n",
    "correct_pin = \"1872\"\n",
    "for i in range(3):\n",
    "    input_pin = input(\"Enter the pin: \")\n",
    "    if input_pin == correct_pin:\n",
    "        print(\"Door open\")\n",
    "        break\n",
    "    else:\n",
    "        print(\"Wrong\")"
   ]
  }
 ],
 "metadata": {
  "kernelspec": {
   "display_name": "Python 3",
   "language": "python",
   "name": "python3"
  },
  "language_info": {
   "codemirror_mode": {
    "name": "ipython",
    "version": 3
   },
   "file_extension": ".py",
   "mimetype": "text/x-python",
   "name": "python",
   "nbconvert_exporter": "python",
   "pygments_lexer": "ipython3",
   "version": "3.7.4"
  }
 },
 "nbformat": 4,
 "nbformat_minor": 2
}
