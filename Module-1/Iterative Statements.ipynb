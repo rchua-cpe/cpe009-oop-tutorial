{
 "cells": [
  {
   "cell_type": "markdown",
   "metadata": {},
   "source": [
    "# CPE 009 - Programming Tutorials (Iterative Statements)\n",
    "Iteration simply deals with repetition or repeating certain actions/commands/codes. Our goal is to focus on the behavior of the loops in this notebook."
   ]
  },
  {
   "cell_type": "markdown",
   "metadata": {},
   "source": [
    "## 1. While loop\n",
    "The while loop is a control structure that allows us to repeat line(s) of code while a certain condition is **True**. It has the following syntax\n",
    "``` python\n",
    "while(condition==True):\n",
    "    print(\"Do all the codes here\")\n",
    "    print(\"All of it\")\n",
    "print(\"When the loop ends return here\")\n",
    "```"
   ]
  },
  {
   "cell_type": "markdown",
   "metadata": {},
   "source": [
    "**CAUTION:** If the condition is always True, when do you think the loop will end?\n",
    "\n",
    "**Do not attempt to run a code like this** because this is referred to as an **Infinite Loop** which will run as you may guess infitely (which never stops) until the program is manually terminated."
   ]
  },
  {
   "cell_type": "markdown",
   "metadata": {},
   "source": [
    "To solve this, we need to implement a control mechanism inside the loop so that we can eventually break the loop."
   ]
  },
  {
   "cell_type": "code",
   "execution_count": 1,
   "metadata": {},
   "outputs": [
    {
     "name": "stdout",
     "output_type": "stream",
     "text": [
      "Hi there!\n",
      "Hi there!\n",
      "Hi there!\n",
      "Hi there!\n",
      "Hi there!\n",
      "Sorry if I was being obnoxius(makulit).\n"
     ]
    }
   ],
   "source": [
    "# print a message 5 times\n",
    "# set a control variable\n",
    "counter = 1\n",
    "while counter <= 5:\n",
    "    print(\"Hi there!\")\n",
    "    counter = counter + 1\n",
    "print(\"Sorry if I was being obnoxius(makulit).\")"
   ]
  },
  {
   "cell_type": "markdown",
   "metadata": {},
   "source": [
    "The **counter** variable can assume any value but since our program deals with repeating for a certain time, we gave it an integer / number for simplicity.\n",
    "\n",
    "The **counter** variable in a loop usually starts from 0 since computers normally do start counting from 0 but we can change implementations accordingly or depending on how we see fit."
   ]
  },
  {
   "cell_type": "code",
   "execution_count": 2,
   "metadata": {},
   "outputs": [
    {
     "name": "stdout",
     "output_type": "stream",
     "text": [
      "Hi there!\n",
      "Hi there!\n",
      "Hi there!\n",
      "Hi there!\n",
      "Hi there!\n",
      "Same output.\n"
     ]
    }
   ],
   "source": [
    "# print a message 5 times\n",
    "# set a control variable\n",
    "counter = 0\n",
    "while counter < 5:\n",
    "    print(\"Hi there!\")\n",
    "    counter = counter + 1\n",
    "print(\"Same output.\")"
   ]
  },
  {
   "cell_type": "markdown",
   "metadata": {},
   "source": [
    "The counter value that was used above\n",
    "``` python\n",
    "counter = counter + 1 \n",
    "```\n",
    "This can be rewritten as \n",
    "``` python\n",
    "counter += 1 \n",
    "```\n",
    "For a shortcut notation"
   ]
  },
  {
   "cell_type": "code",
   "execution_count": 10,
   "metadata": {},
   "outputs": [
    {
     "name": "stdout",
     "output_type": "stream",
     "text": [
      "0\n",
      "1\n",
      "2\n",
      "3\n",
      "4\n",
      "5\n",
      "6\n",
      "7\n",
      "8\n",
      "9\n",
      "10\n"
     ]
    }
   ],
   "source": [
    "# Another example displaying numbers from 0 to 10\n",
    "number = 0\n",
    "while number <= 10:\n",
    "    print(number)\n",
    "    number += 1"
   ]
  },
  {
   "cell_type": "markdown",
   "metadata": {},
   "source": [
    "## Example #1: Automated Door Lock (While loop)\n",
    "Imagine if you have a door with an electronic lock controlled by keypad (1, 2, 3, 4, 5, 6, 7, 8, 9, 0) \n",
    "\n",
    "\n",
    "Sample image: \n",
    "[Keypad Example](https://ae01.alicdn.com/kf/HTB1spu9qlUSMeJjy1zjq6A0dXXaW/Metal-USB-Keyboard-With-12-Keys-3x4-Keypad-Industrial-Mini-Keyboard-Stainless-Steel-Kiosk-Numeric-Keypad.jpg)\n",
    "or here [https://www.aliexpress.com/i/32837746308.html](https://www.aliexpress.com/i/32837746308.html)"
   ]
  },
  {
   "cell_type": "markdown",
   "metadata": {},
   "source": [
    "Create a program that can simulate the functionality of an automated door lock. \n",
    "\n",
    "Features\n",
    "- The correct 4-pin digit code will be hard coded / written in the program before it runs \n",
    "- The program should ask for a 4-pin digit code. \n",
    " - If the 4-pin digit code is correct you should print the message \"Door open\" and if it is wrong \"Wrong\".\n",
    "- The program should accept three wrong tries before ending."
   ]
  },
  {
   "cell_type": "code",
   "execution_count": 6,
   "metadata": {},
   "outputs": [
    {
     "name": "stdout",
     "output_type": "stream",
     "text": [
      "Enter the pin: 1872\n",
      "Door open\n"
     ]
    }
   ],
   "source": [
    "# This is an example when the code entered is correct\n",
    "correct_pin = \"1872\"\n",
    "counter = 0\n",
    "while counter < 3:\n",
    "    input_pin = input(\"Enter the pin: \")\n",
    "    if input_pin == correct_pin:\n",
    "        print(\"Door open\")\n",
    "        break\n",
    "    else:\n",
    "        print(\"Wrong\")\n",
    "        counter += 1"
   ]
  },
  {
   "cell_type": "code",
   "execution_count": 7,
   "metadata": {},
   "outputs": [
    {
     "name": "stdout",
     "output_type": "stream",
     "text": [
      "Enter the pin: 1234\n",
      "Wrong\n",
      "Enter the pin: 4321\n",
      "Wrong\n",
      "Enter the pin: 111\n",
      "Wrong\n"
     ]
    }
   ],
   "source": [
    "# This is an example when the code entered is continously wrong\n",
    "correct_pin = \"1872\"\n",
    "counter = 0\n",
    "while counter < 3:\n",
    "    input_pin = input(\"Enter the pin: \")\n",
    "    if input_pin == correct_pin:\n",
    "        print(\"Door open\")\n",
    "        break\n",
    "    else:\n",
    "        print(\"Wrong\")\n",
    "        counter += 1"
   ]
  },
  {
   "cell_type": "markdown",
   "metadata": {},
   "source": [
    "**Note:** The ***break*** keyword is used to exit the loop even before the condition becomes **False**. \n",
    "\n",
    "Try removing the **break** in one of the cells and observe what happens when you try to run the program again."
   ]
  },
  {
   "cell_type": "markdown",
   "metadata": {},
   "source": [
    "## Example #2: Modified Door Lock\n",
    "Suppose we don't want the program to exit after three tries (because if it's a door lock it shouldn't stop opening doors and shutdown) otherwise, we wouldn't be able to open the door at all."
   ]
  },
  {
   "cell_type": "markdown",
   "metadata": {},
   "source": [
    "**Note:** There are some scenarios where an infinite loop is useful given that there must be a way for us to exit the program."
   ]
  },
  {
   "cell_type": "markdown",
   "metadata": {},
   "source": [
    "Let's observe a program where we implement the modified door lock that continously waits for the user to input the correct combination otherwise it will just keep asking for an input pin."
   ]
  },
  {
   "cell_type": "code",
   "execution_count": 8,
   "metadata": {},
   "outputs": [
    {
     "name": "stdout",
     "output_type": "stream",
     "text": [
      "Enter the pin: 12\n",
      "Wrong\n",
      "Enter the pin: 12\n",
      "Wrong\n",
      "Enter the pin: 12\n",
      "Wrong\n",
      "Enter the pin: 12\n",
      "Wrong\n",
      "Enter the pin: 1872\n",
      "Door open\n"
     ]
    }
   ],
   "source": [
    "# This is an example when the code entered is continously wrong\n",
    "correct_pin = \"1872\"\n",
    "while True:\n",
    "    input_pin = input(\"Enter the pin: \")\n",
    "    if input_pin == correct_pin:\n",
    "        print(\"Door open\")\n",
    "        break\n",
    "    else:\n",
    "        print(\"Wrong\")"
   ]
  },
  {
   "cell_type": "markdown",
   "metadata": {},
   "source": [
    "## Summary for While Loop\n",
    "We can use a While loop for counting over a finite time (5 times, 3 times) even infinitely as well as for conditional scenarios like keep looping until we enter the correct value."
   ]
  },
  {
   "cell_type": "markdown",
   "metadata": {},
   "source": [
    "## 2. For Loop\n",
    "A for loop in Python mostly used to loop through an iterable sequence. Though we can also use for loops to loop through a finite number of times.\n",
    "\n",
    "The sequences that are available in Python can be read about more in detail here: [https://en.wikibooks.org/wiki/Python_Programming/Sequences](https://en.wikibooks.org/wiki/Python_Programming/Sequences)\n",
    "\n",
    "We will be going over them in the next module."
   ]
  },
  {
   "cell_type": "code",
   "execution_count": 13,
   "metadata": {},
   "outputs": [
    {
     "name": "stdout",
     "output_type": "stream",
     "text": [
      "0\n",
      "1\n",
      "2\n",
      "3\n",
      "4\n",
      "5\n",
      "6\n",
      "7\n",
      "8\n",
      "9\n"
     ]
    }
   ],
   "source": [
    "# Create a program that will loop through 10 numbers\n",
    "for number in range(10):\n",
    "    # We can use number variablce inside the loop\n",
    "    print(number)"
   ]
  },
  {
   "cell_type": "markdown",
   "metadata": {},
   "source": [
    "**Note:** We can still use the number variable outside of the for loop. Consider when using the loop."
   ]
  },
  {
   "cell_type": "code",
   "execution_count": 12,
   "metadata": {},
   "outputs": [
    {
     "name": "stdout",
     "output_type": "stream",
     "text": [
      "9\n"
     ]
    }
   ],
   "source": [
    "print(number)"
   ]
  },
  {
   "cell_type": "markdown",
   "metadata": {},
   "source": [
    "Let's repeat the earlier examples"
   ]
  },
  {
   "cell_type": "code",
   "execution_count": 15,
   "metadata": {},
   "outputs": [
    {
     "name": "stdout",
     "output_type": "stream",
     "text": [
      "Hi there!\n",
      "Hi there!\n",
      "Hi there!\n",
      "Hi there!\n",
      "Hi there!\n",
      "Same output.\n"
     ]
    }
   ],
   "source": [
    "# print a message 5 times\n",
    "# You may choose not to use i in the loop but is required by for-loop syntax.\n",
    "for i in range(5):\n",
    "    print(\"Hi there!\")\n",
    "print(\"Same output.\")"
   ]
  },
  {
   "cell_type": "markdown",
   "metadata": {},
   "source": [
    "One thing that the for loop can be very useful in, is in iterable objects/sequences."
   ]
  },
  {
   "cell_type": "code",
   "execution_count": 18,
   "metadata": {},
   "outputs": [
    {
     "name": "stdout",
     "output_type": "stream",
     "text": [
      "Hello John!\n",
      "Hello Mark!\n",
      "Hello Luke!\n"
     ]
    }
   ],
   "source": [
    "names = [\"John\", \"Mark\", \"Luke\"]\n",
    "for name in names:\n",
    "    print(f\"Hello {name}!\")"
   ]
  },
  {
   "cell_type": "markdown",
   "metadata": {},
   "source": [
    "We can implement **break** similarly as in the while loop."
   ]
  },
  {
   "cell_type": "code",
   "execution_count": 23,
   "metadata": {},
   "outputs": [
    {
     "name": "stdout",
     "output_type": "stream",
     "text": [
      "Hi!\n",
      "Hello Mark!\n"
     ]
    }
   ],
   "source": [
    "names = [\"John\", \"Mark\", \"Luke\"]\n",
    "# Greet only Mark when or if \"Mark\" gets assigned to name\n",
    "for name in names:\n",
    "    if name == \"Mark\":\n",
    "        print(f\"Hello {name}!\")\n",
    "        break\n",
    "    else:\n",
    "        print(\"Hi!\")"
   ]
  },
  {
   "cell_type": "markdown",
   "metadata": {},
   "source": [
    "Additionally, we also have the **continue** keyword which allows us to start with the next iteration immediately."
   ]
  },
  {
   "cell_type": "code",
   "execution_count": 1,
   "metadata": {},
   "outputs": [
    {
     "name": "stdout",
     "output_type": "stream",
     "text": [
      "0\n",
      "1\n",
      "2\n",
      "3\n",
      "Number: 4\n",
      "5\n",
      "6\n",
      "7\n",
      "8\n",
      "9\n",
      "10\n"
     ]
    }
   ],
   "source": [
    "# Another example displaying numbers from 0 to 10\n",
    "number = 0\n",
    "while number <= 10:\n",
    "    if number == 4:\n",
    "        print(f\"Number: {number}\")\n",
    "        number +=1\n",
    "        continue\n",
    "        # the code below got skipped and it went to 5.\n",
    "    print(number)\n",
    "    number += 1"
   ]
  },
  {
   "cell_type": "markdown",
   "metadata": {},
   "source": [
    "Same thing if we implement it on a for loop but involves fewer lines of code (for the context of the problem)."
   ]
  },
  {
   "cell_type": "code",
   "execution_count": 2,
   "metadata": {},
   "outputs": [
    {
     "name": "stdout",
     "output_type": "stream",
     "text": [
      "0\n",
      "1\n",
      "2\n",
      "3\n",
      "Number: 4\n",
      "5\n",
      "6\n",
      "7\n",
      "8\n",
      "9\n"
     ]
    }
   ],
   "source": [
    "for number in range(10):\n",
    "    if number == 4:\n",
    "        print(f\"Number: {number}\")\n",
    "        continue\n",
    "    print(number)    "
   ]
  },
  {
   "cell_type": "markdown",
   "metadata": {},
   "source": [
    "## Summary of For Loop\n",
    "For loop can be used in scenarios where you might also use while loop such as repeating line(s) of code for finite amount of times, but most often is used to loop through sequences. More on that in the next module. \n",
    "\n",
    "In Python, the for loop is mostly not used in instances where we want the program to run through an infinite loop though we can also implement it in a for loop."
   ]
  },
  {
   "cell_type": "markdown",
   "metadata": {},
   "source": [
    "## 3. For Loop and range()\n",
    "For our last topic, we'll explore more of the properties we can change in the range() function and the for loop. The range() syntax according to the documentation of Python is:\n",
    "``` python\n",
    "range(start, stop[, step])\n",
    "```\n",
    "**start** is the starting value where the default is 0, **stop** is the last value (which we need to enter), and **step** is an optional value we can add to specify by how much we iterate."
   ]
  },
  {
   "cell_type": "code",
   "execution_count": 3,
   "metadata": {},
   "outputs": [
    {
     "name": "stdout",
     "output_type": "stream",
     "text": [
      "0\n",
      "2\n",
      "4\n",
      "6\n",
      "8\n",
      "10\n"
     ]
    }
   ],
   "source": [
    "# While loop example of this start stop step property\n",
    "# print even numbers between 0 and 10\n",
    "number = 0 # this is considered the start\n",
    "while number <= 10: # 10 is considered the stop\n",
    "    print(number)\n",
    "    number += 2 # this is the step"
   ]
  },
  {
   "cell_type": "code",
   "execution_count": 4,
   "metadata": {},
   "outputs": [
    {
     "name": "stdout",
     "output_type": "stream",
     "text": [
      "0\n",
      "2\n",
      "4\n",
      "6\n",
      "8\n",
      "10\n"
     ]
    }
   ],
   "source": [
    "# for loop example\n",
    "# to be able to use the step \n",
    "for i in range(0, 11, 2):\n",
    "    print(i)"
   ]
  },
  {
   "cell_type": "markdown",
   "metadata": {},
   "source": [
    "## TRY IT YOURSELF: Modified Door Lock using For loop\n",
    "Modify the program in [Example #1: Automated Door Lock (While loop)](#Example-#1:-Automated-Door-Lock-(While-loop)) and make it work using for loops instead of while loops."
   ]
  },
  {
   "cell_type": "code",
   "execution_count": 1,
   "metadata": {},
   "outputs": [
    {
     "name": "stdout",
     "output_type": "stream",
     "text": [
      "Enter the pin: 123\n",
      "Wrong\n",
      "Enter the pin: 123\n",
      "Wrong\n",
      "Enter the pin: 123\n",
      "Wrong\n"
     ]
    }
   ],
   "source": [
    "## MODIFY THE CODE\n",
    "# This is an example when the code entered is correct\n",
    "correct_pin = \"1872\"\n",
    "counter = 0\n",
    "while counter < 3:\n",
    "    input_pin = input(\"Enter the pin: \")\n",
    "    if input_pin == correct_pin:\n",
    "        print(\"Door open\")\n",
    "        break\n",
    "    else:\n",
    "        print(\"Wrong\")\n",
    "        counter += 1"
   ]
  },
  {
   "cell_type": "markdown",
   "metadata": {},
   "source": [
    "Try as much as you can to do the exercise before looking at the solution. But if you finally get stuck you may look at the code by clicking at the hyperlink [here]()."
   ]
  },
  {
   "cell_type": "markdown",
   "metadata": {},
   "source": [
    "© 2020 Made by Royce Chua. All rights reserved."
   ]
  }
 ],
 "metadata": {
  "kernelspec": {
   "display_name": "Python 3",
   "language": "python",
   "name": "python3"
  },
  "language_info": {
   "codemirror_mode": {
    "name": "ipython",
    "version": 3
   },
   "file_extension": ".py",
   "mimetype": "text/x-python",
   "name": "python",
   "nbconvert_exporter": "python",
   "pygments_lexer": "ipython3",
   "version": "3.7.4"
  }
 },
 "nbformat": 4,
 "nbformat_minor": 2
}
