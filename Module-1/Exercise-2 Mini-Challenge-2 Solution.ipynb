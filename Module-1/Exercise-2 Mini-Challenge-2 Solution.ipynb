{
 "cells": [
  {
   "cell_type": "code",
   "execution_count": 2,
   "metadata": {},
   "outputs": [
    {
     "name": "stdout",
     "output_type": "stream",
     "text": [
      "Enter the total distance traveled (km): 3\n",
      "Your total fare is: 80.50 php\n"
     ]
    }
   ],
   "source": [
    "# This is a taxi fare computer program\n",
    "\n",
    "# Get the total distance in km from the user\n",
    "distance = float(input(\"Enter the total distance traveled (km): \"))\n",
    "# base fare 40 + additional 13.50 per km\n",
    "fare = 40 + (13.50 * distance)\n",
    "# Add the :2.f to signify two decimal places (just for aesthetics)\n",
    "print(f\"Your total fare is: {fare:.2f} php\")"
   ]
  }
 ],
 "metadata": {
  "kernelspec": {
   "display_name": "Python 3",
   "language": "python",
   "name": "python3"
  },
  "language_info": {
   "codemirror_mode": {
    "name": "ipython",
    "version": 3
   },
   "file_extension": ".py",
   "mimetype": "text/x-python",
   "name": "python",
   "nbconvert_exporter": "python",
   "pygments_lexer": "ipython3",
   "version": "3.7.4"
  }
 },
 "nbformat": 4,
 "nbformat_minor": 2
}
