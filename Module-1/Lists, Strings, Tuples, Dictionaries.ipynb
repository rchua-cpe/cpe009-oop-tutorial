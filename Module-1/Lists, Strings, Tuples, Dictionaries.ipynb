{
 "cells": [
  {
   "cell_type": "markdown",
   "metadata": {},
   "source": [
    "# CPE 009 - Programming Tutorials (Lists, Strings, Tuples, Dictionaries)\n",
    "We will be exploring additional data types, known as sequence types because they deal with a list/sequence of items contained and represented as one group."
   ]
  },
  {
   "cell_type": "markdown",
   "metadata": {},
   "source": [
    "## Content Outline\n",
    "Given that this notebook is fairly long, please be sure to take some breaks in between and just go over each and run as well as modify the code to understand them well. This outline was made to help you navigate more around each sub-topic.\n",
    "1. [Lists](#1.-Lists)\n",
    "2. [String](#2.-Strings)\n",
    "3. [Tuples](#3.-Tuples)\n",
    "4. [Dictionaries](#4.-Dictionaries)\n",
    "5. [Summary](#Summary)"
   ]
  },
  {
   "cell_type": "markdown",
   "metadata": {},
   "source": [
    "## 1. Lists\n",
    "Lists are containers of multiple values though they are treated as one group. Think of your grocery list or any other list you might think of."
   ]
  },
  {
   "cell_type": "code",
   "execution_count": 1,
   "metadata": {},
   "outputs": [],
   "source": [
    "# lists\n",
    "grocery_list = [\"Milk\", \"Eggs\", \"Bread\", \"Bacon\", \"Tuna\"]\n",
    "to_do = [\"Go shopping\", \"Do homework\", \"Sleep\"]\n",
    "numbers = [5, 3, 4, 2, 1]"
   ]
  },
  {
   "cell_type": "markdown",
   "metadata": {},
   "source": [
    "Lists in Python do not require that all elements(items) in a list are of the same data type unlike Arrays in compiled languages like C or Java. "
   ]
  },
  {
   "cell_type": "code",
   "execution_count": 2,
   "metadata": {},
   "outputs": [],
   "source": [
    "# An example of a list with multiple data types\n",
    "weird = [1.2, \"Word\", -5, True, (1,0)]"
   ]
  },
  {
   "cell_type": "markdown",
   "metadata": {},
   "source": [
    "There's a need to be careful though because if we access the element and apply some computation and suprisingly there was a string or bool value in the list the program will crash."
   ]
  },
  {
   "cell_type": "markdown",
   "metadata": {},
   "source": [
    "## How to access Lists?"
   ]
  },
  {
   "cell_type": "code",
   "execution_count": 3,
   "metadata": {},
   "outputs": [
    {
     "name": "stdout",
     "output_type": "stream",
     "text": [
      "Milk\n",
      "Eggs\n",
      "Bread\n",
      "Bacon\n",
      "Tuna\n"
     ]
    }
   ],
   "source": [
    "# Using its index position (starting from 0 up until n-1), n simply means number of elements or items\n",
    "# In this case, n is 5 so the index will start from 0 to 5-1=4\n",
    "print(grocery_list[0])\n",
    "print(grocery_list[1])\n",
    "print(grocery_list[2])\n",
    "print(grocery_list[3])\n",
    "print(grocery_list[4])"
   ]
  },
  {
   "cell_type": "code",
   "execution_count": 4,
   "metadata": {},
   "outputs": [
    {
     "ename": "IndexError",
     "evalue": "list index out of range",
     "output_type": "error",
     "traceback": [
      "\u001b[0;31m---------------------------------------------------------------------------\u001b[0m",
      "\u001b[0;31mIndexError\u001b[0m                                Traceback (most recent call last)",
      "\u001b[0;32m<ipython-input-4-164aeb5611e3>\u001b[0m in \u001b[0;36m<module>\u001b[0;34m\u001b[0m\n\u001b[1;32m      1\u001b[0m \u001b[0;31m# printing index positions that don't exist\u001b[0m\u001b[0;34m\u001b[0m\u001b[0;34m\u001b[0m\u001b[0;34m\u001b[0m\u001b[0m\n\u001b[0;32m----> 2\u001b[0;31m \u001b[0mprint\u001b[0m\u001b[0;34m(\u001b[0m\u001b[0mgrocery_list\u001b[0m\u001b[0;34m[\u001b[0m\u001b[0;36m5\u001b[0m\u001b[0;34m]\u001b[0m\u001b[0;34m)\u001b[0m\u001b[0;34m\u001b[0m\u001b[0;34m\u001b[0m\u001b[0m\n\u001b[0m",
      "\u001b[0;31mIndexError\u001b[0m: list index out of range"
     ]
    }
   ],
   "source": [
    "# printing index positions that don't exist\n",
    "print(grocery_list[5])"
   ]
  },
  {
   "cell_type": "markdown",
   "metadata": {},
   "source": [
    "Another unique feature in Python is **negative indexes** which is the opposite of what we've done above."
   ]
  },
  {
   "cell_type": "code",
   "execution_count": 5,
   "metadata": {},
   "outputs": [
    {
     "name": "stdout",
     "output_type": "stream",
     "text": [
      "Milk\n",
      "Eggs\n",
      "Bread\n",
      "Bacon\n",
      "Tuna\n"
     ]
    }
   ],
   "source": [
    "# Using its negative index position (starting from -n up until -1), n simply means number of elements or items\n",
    "# In this case, n is 5 so the index will start from -5 to -1 (counting up)\n",
    "print(grocery_list[-5])\n",
    "print(grocery_list[-4])\n",
    "print(grocery_list[-3])\n",
    "print(grocery_list[-2])\n",
    "print(grocery_list[-1])"
   ]
  },
  {
   "cell_type": "code",
   "execution_count": 15,
   "metadata": {},
   "outputs": [
    {
     "ename": "IndexError",
     "evalue": "list index out of range",
     "output_type": "error",
     "traceback": [
      "\u001b[0;31m---------------------------------------------------------------------------\u001b[0m",
      "\u001b[0;31mIndexError\u001b[0m                                Traceback (most recent call last)",
      "\u001b[0;32m<ipython-input-15-c02fc3b7c080>\u001b[0m in \u001b[0;36m<module>\u001b[0;34m\u001b[0m\n\u001b[1;32m      1\u001b[0m \u001b[0;31m# printing index positions that don't exist, just the same\u001b[0m\u001b[0;34m\u001b[0m\u001b[0;34m\u001b[0m\u001b[0;34m\u001b[0m\u001b[0m\n\u001b[0;32m----> 2\u001b[0;31m \u001b[0mprint\u001b[0m\u001b[0;34m(\u001b[0m\u001b[0mgrocery_list\u001b[0m\u001b[0;34m[\u001b[0m\u001b[0;34m-\u001b[0m\u001b[0;36m6\u001b[0m\u001b[0;34m]\u001b[0m\u001b[0;34m)\u001b[0m\u001b[0;34m\u001b[0m\u001b[0;34m\u001b[0m\u001b[0m\n\u001b[0m",
      "\u001b[0;31mIndexError\u001b[0m: list index out of range"
     ]
    }
   ],
   "source": [
    "# printing index positions that don't exist, just the same\n",
    "print(grocery_list[-6])"
   ]
  },
  {
   "cell_type": "markdown",
   "metadata": {},
   "source": [
    "Take a moment and observe the similarities for example"
   ]
  },
  {
   "cell_type": "code",
   "execution_count": 18,
   "metadata": {},
   "outputs": [
    {
     "name": "stdout",
     "output_type": "stream",
     "text": [
      "Milk\n",
      "Milk\n"
     ]
    }
   ],
   "source": [
    "print(grocery_list[0])\n",
    "print(grocery_list[-5])"
   ]
  },
  {
   "cell_type": "markdown",
   "metadata": {},
   "source": [
    "## how to know what n is without having to count?\n",
    "We use a new built-in function to Python called len(). We put the list or array in len()."
   ]
  },
  {
   "cell_type": "code",
   "execution_count": 7,
   "metadata": {},
   "outputs": [
    {
     "name": "stdout",
     "output_type": "stream",
     "text": [
      "5\n"
     ]
    }
   ],
   "source": [
    "grocery_no = len(grocery_list)\n",
    "print(grocery_no)"
   ]
  },
  {
   "cell_type": "code",
   "execution_count": 8,
   "metadata": {},
   "outputs": [
    {
     "name": "stdout",
     "output_type": "stream",
     "text": [
      "5\n"
     ]
    }
   ],
   "source": [
    "# Even just directly, if you don't need to store it\n",
    "print(len(grocery_list))"
   ]
  },
  {
   "cell_type": "markdown",
   "metadata": {},
   "source": [
    "## How to render the contents of a list?"
   ]
  },
  {
   "cell_type": "code",
   "execution_count": 9,
   "metadata": {
    "scrolled": true
   },
   "outputs": [
    {
     "name": "stdout",
     "output_type": "stream",
     "text": [
      "Milk\n",
      "Eggs\n",
      "Bread\n",
      "Bacon\n",
      "Tuna\n"
     ]
    }
   ],
   "source": [
    "# While loop\n",
    "n = len(grocery_list)\n",
    "counter = 0\n",
    "while counter < n:\n",
    "    print(grocery_list[counter])\n",
    "    counter += 1"
   ]
  },
  {
   "cell_type": "code",
   "execution_count": 10,
   "metadata": {},
   "outputs": [
    {
     "name": "stdout",
     "output_type": "stream",
     "text": [
      "Milk\n",
      "Eggs\n",
      "Bread\n",
      "Bacon\n",
      "Tuna\n"
     ]
    }
   ],
   "source": [
    "# For loop\n",
    "for item in grocery_list:\n",
    "    print(item)"
   ]
  },
  {
   "cell_type": "markdown",
   "metadata": {},
   "source": [
    "## Grab only parts or slices of a list?\n",
    "We can use a feature of lists, strings, and tuples called **index slicing**"
   ]
  },
  {
   "cell_type": "code",
   "execution_count": 11,
   "metadata": {},
   "outputs": [
    {
     "name": "stdout",
     "output_type": "stream",
     "text": [
      "['Milk', 'Eggs', 'Bread']\n"
     ]
    }
   ],
   "source": [
    "# index slicing\n",
    "# get only the first 3 items\n",
    "print(grocery_list[:3])"
   ]
  },
  {
   "cell_type": "markdown",
   "metadata": {},
   "source": [
    "**Reminder:** This does not affect grocery list in any way as we are only grabbing a copy of the grocery list."
   ]
  },
  {
   "cell_type": "code",
   "execution_count": 12,
   "metadata": {},
   "outputs": [
    {
     "name": "stdout",
     "output_type": "stream",
     "text": [
      "Milk\n",
      "Eggs\n",
      "Bread\n"
     ]
    }
   ],
   "source": [
    "# We can use the sliced copy of the grocery_list in our own loops\n",
    "for item in grocery_list[:3]:\n",
    "    print(item)"
   ]
  },
  {
   "cell_type": "code",
   "execution_count": 14,
   "metadata": {},
   "outputs": [
    {
     "name": "stdout",
     "output_type": "stream",
     "text": [
      "['Milk', 'Eggs', 'Bread']\n"
     ]
    }
   ],
   "source": [
    "# Negative index slicing can also be used\n",
    "print(grocery_list[:-2])"
   ]
  },
  {
   "cell_type": "markdown",
   "metadata": {},
   "source": [
    "## List Methods\n",
    "Functions that each lists possesses are called methods. Methods are applied to the list to which the method was called on. There are many list methods, a comprehensible list is available here: [https://docs.python.org/3/tutorial/datastructures.html](https://docs.python.org/3/tutorial/datastructures.html) \n",
    "\n",
    "In this tutorial, we'll be looking at some of most common we can encounter and use."
   ]
  },
  {
   "cell_type": "code",
   "execution_count": 20,
   "metadata": {},
   "outputs": [
    {
     "name": "stdout",
     "output_type": "stream",
     "text": [
      "['Milk', 'Eggs', 'Bread', 'Bacon', 'Tuna', 'Peanut Butter', 'Peanut Butter']\n",
      "Peanut Butter\n"
     ]
    }
   ],
   "source": [
    "# .append(element)\n",
    "# this method permanently adds a new element to the end of the list\n",
    "grocery_list.append(\"Peanut Butter\")\n",
    "print(grocery_list)\n",
    "print(grocery_list[5])"
   ]
  },
  {
   "cell_type": "code",
   "execution_count": 25,
   "metadata": {},
   "outputs": [
    {
     "name": "stdout",
     "output_type": "stream",
     "text": [
      "Peanut Butter\n",
      "['Milk', 'Eggs', 'Bread', 'Bacon', 'Tuna']\n"
     ]
    }
   ],
   "source": [
    "# .pop()\n",
    "# this method permanently removes the last element to the end of the list\n",
    "# the removed/popped element can be stored in a variable\n",
    "last_element = grocery_list.pop()\n",
    "print(last_element)\n",
    "print(grocery_list)"
   ]
  },
  {
   "cell_type": "code",
   "execution_count": 27,
   "metadata": {},
   "outputs": [
    {
     "name": "stdout",
     "output_type": "stream",
     "text": [
      "['Milk', 'Eggs', 'Bacon', 'Tuna']\n"
     ]
    }
   ],
   "source": [
    "# .remove(element)\n",
    "# this method removes the first element that matches the value given inside the .remove()\n",
    "# Remember that bread is not equal to Bread\n",
    "grocery_list.remove('Bread')\n",
    "print(grocery_list)"
   ]
  },
  {
   "cell_type": "markdown",
   "metadata": {},
   "source": [
    "The list automatically resizes accordingly so as to not have any index that has no value."
   ]
  },
  {
   "cell_type": "code",
   "execution_count": 28,
   "metadata": {},
   "outputs": [
    {
     "name": "stdout",
     "output_type": "stream",
     "text": [
      "['Milk', 'Eggs', 'Bacon', 'Bread', 'Tuna']\n"
     ]
    }
   ],
   "source": [
    "# .insert(index, element)\n",
    "# this method allows you to insert an element on a given index number\n",
    "# ,which makes the element on the right adjust accordingly\n",
    "grocery_list.insert(3, 'Bread')\n",
    "print(grocery_list)"
   ]
  },
  {
   "cell_type": "code",
   "execution_count": 29,
   "metadata": {},
   "outputs": [],
   "source": [
    "## TRY IT YOURSELF, try to remove Bread again from grocery list and insert the Bread\n",
    "## correctly back to its original position.\n"
   ]
  },
  {
   "cell_type": "markdown",
   "metadata": {},
   "source": [
    "## Summary about lists\n",
    "Lists are used to hold multiple elements/items in one variable or container. It keeps track of its members using index positions starting either from 0 to n(# of elements) - 1 or the -n(# of elements) to -1 for negative indexes.\n",
    "\n",
    "We know that lists can hold different data types, and its elements can be directly modified/replaced which makes it **Mutable**. We can use various methods to work with lists."
   ]
  },
  {
   "cell_type": "markdown",
   "metadata": {},
   "source": [
    "## 2. Strings\n",
    "Strings can be thought of as composed of individual characters. In Python Strings can be represented both by \" \" as well as ' ', they mean the same thing. \n",
    "\n",
    "**Example**: \"HELLO\" can be treated as 'H', 'E', 'L', 'L', 'O' "
   ]
  },
  {
   "cell_type": "code",
   "execution_count": 5,
   "metadata": {},
   "outputs": [
    {
     "name": "stdout",
     "output_type": "stream",
     "text": [
      "HELLO\n"
     ]
    }
   ],
   "source": [
    "# Let's get rid of the default separator\n",
    "# I also wanted to show here how we can change the default behavior of print()\n",
    "print('H','E','L','L','O', sep='')"
   ]
  },
  {
   "cell_type": "code",
   "execution_count": 6,
   "metadata": {},
   "outputs": [
    {
     "name": "stdout",
     "output_type": "stream",
     "text": [
      "Help on built-in function print in module builtins:\n",
      "\n",
      "print(...)\n",
      "    print(value, ..., sep=' ', end='\\n', file=sys.stdout, flush=False)\n",
      "    \n",
      "    Prints the values to a stream, or to sys.stdout by default.\n",
      "    Optional keyword arguments:\n",
      "    file:  a file-like object (stream); defaults to the current sys.stdout.\n",
      "    sep:   string inserted between values, default a space.\n",
      "    end:   string appended after the last value, default a newline.\n",
      "    flush: whether to forcibly flush the stream.\n",
      "\n"
     ]
    }
   ],
   "source": [
    "# As a side-note \n",
    "# we can find out more about the built-in functions we use by using the help() function\n",
    "help(print)"
   ]
  },
  {
   "cell_type": "markdown",
   "metadata": {},
   "source": [
    "How do we keep track of the values of each character if we are just printing them out?\n",
    "\n",
    "Conceptually, we can imagine it as a list or even an array of characters and remember that a list is an iterable sequence which can be looped over by using either the index or a for-loop."
   ]
  },
  {
   "cell_type": "code",
   "execution_count": 8,
   "metadata": {},
   "outputs": [
    {
     "name": "stdout",
     "output_type": "stream",
     "text": [
      "['H', 'E', 'L', 'L', 'O']\n",
      "HELLO"
     ]
    }
   ],
   "source": [
    "# Using a loop\n",
    "word = ['H','E','L','L','O']\n",
    "# Display the word first as a list filled with individual characters\n",
    "print(word)\n",
    "# let's display the more readable version of word using a loop\n",
    "for character in word:\n",
    "    print(character, end='')"
   ]
  },
  {
   "cell_type": "code",
   "execution_count": 9,
   "metadata": {},
   "outputs": [
    {
     "name": "stdout",
     "output_type": "stream",
     "text": [
      "H\n",
      "E\n",
      "L\n",
      "L\n",
      "O\n"
     ]
    }
   ],
   "source": [
    "# Using index and print()\n",
    "print(word[0])\n",
    "print(word[1])\n",
    "print(word[2])\n",
    "print(word[3])\n",
    "print(word[4])"
   ]
  },
  {
   "cell_type": "code",
   "execution_count": 10,
   "metadata": {},
   "outputs": [
    {
     "name": "stdout",
     "output_type": "stream",
     "text": [
      "HELLO"
     ]
    }
   ],
   "source": [
    "# To control that mistake because by default the Python print() function adds a new line \n",
    "# we can change the ending character to be nothing\n",
    "print(word[0], end='')\n",
    "print(word[1], end='')\n",
    "print(word[2], end='')\n",
    "print(word[3], end='')\n",
    "print(word[4], end='')"
   ]
  },
  {
   "cell_type": "code",
   "execution_count": 7,
   "metadata": {},
   "outputs": [
    {
     "name": "stdout",
     "output_type": "stream",
     "text": [
      "HELLO\n",
      "HELLO"
     ]
    }
   ],
   "source": [
    "# Now we should be able to understand more when we use strings like this\n",
    "# We are offered this useful shortcut because we often use Strings like these comments and text\n",
    "word = \"HELLO\"\n",
    "# Instead of printing individual characters to get the word, we can immediately print entire word\n",
    "print(word)\n",
    "\n",
    "# We can also loop through each character without enclosing each character in a list\n",
    "for character in word:\n",
    "    print(character, end='')"
   ]
  },
  {
   "cell_type": "code",
   "execution_count": 10,
   "metadata": {},
   "outputs": [
    {
     "name": "stdout",
     "output_type": "stream",
     "text": [
      "H\n",
      "E\n",
      "L\n",
      "L\n",
      "O\n"
     ]
    }
   ],
   "source": [
    "# Using index and print()\n",
    "print(word[0])\n",
    "print(word[1])\n",
    "print(word[2])\n",
    "print(word[3])\n",
    "print(word[4])\n",
    "# Adding end='' will cause the output to become HELLO, remember you can change the code in this notebook.\n",
    "# Play around with the codes."
   ]
  },
  {
   "cell_type": "markdown",
   "metadata": {},
   "source": [
    "By this time, we can now understand how Strings work or are represented in a conceptual way, we'll now go into some differences between Lists and Strings."
   ]
  },
  {
   "cell_type": "markdown",
   "metadata": {},
   "source": [
    "## Differences between Lists and Strings\n",
    "Since we now know that Strings are essentially like lists, let's go over some major differences.\n",
    "\n",
    "- Lists can have different data types as elements while Strings are restricted to only characters or str values.\n",
    "- Lists are **Mutable** while Strings are **immutable**\n",
    "- Lists elements/items are values not individual characters (our example above was just for demonstration) while String elements/items are only individual characters and no other values.\n",
    "\n",
    "## Similarities between Lists and Strings\n",
    "Some similarities on the other hand are:\n",
    "\n",
    "- Both can be accessed by using index values (0 to n-1) or (-n to -1) where n is the # of elements or items or # of characters for Strings.\n",
    "- Index Slicing can be applied to both Lists and Strings (feel free to give it a try!)\n",
    "- Both can be passed to a for-loop.\n",
    "- The len() function and in operator is supported by Lists and Strings."
   ]
  },
  {
   "cell_type": "code",
   "execution_count": 52,
   "metadata": {},
   "outputs": [
    {
     "name": "stdout",
     "output_type": "stream",
     "text": [
      "Before: ['Mutable/Changeable']\n",
      "After: ['See!']\n"
     ]
    }
   ],
   "source": [
    "# Mutable propery\n",
    "some_list = [\"Mutable/Changeable\"]\n",
    "print(f\"Before: {some_list}\")\n",
    "some_list[0] = \"See!\"\n",
    "print(f\"After: {some_list}\")"
   ]
  },
  {
   "cell_type": "markdown",
   "metadata": {},
   "source": [
    "**Note:** You can only change the exact element value and not the individual strings of the value unless you made it like our previous example ['H','E','L','L','O'] but you won't find someone using this very often unless for some specific use case."
   ]
  },
  {
   "cell_type": "code",
   "execution_count": 12,
   "metadata": {},
   "outputs": [
    {
     "ename": "TypeError",
     "evalue": "'str' object does not support item assignment",
     "output_type": "error",
     "traceback": [
      "\u001b[0;31m---------------------------------------------------------------------------\u001b[0m",
      "\u001b[0;31mTypeError\u001b[0m                                 Traceback (most recent call last)",
      "\u001b[0;32m<ipython-input-12-f999d9000362>\u001b[0m in \u001b[0;36m<module>\u001b[0;34m\u001b[0m\n\u001b[1;32m      1\u001b[0m \u001b[0msome_word\u001b[0m \u001b[0;34m=\u001b[0m \u001b[0;34m\"Immutable/Unchangeable\"\u001b[0m\u001b[0;34m\u001b[0m\u001b[0;34m\u001b[0m\u001b[0m\n\u001b[0;32m----> 2\u001b[0;31m \u001b[0msome_word\u001b[0m\u001b[0;34m[\u001b[0m\u001b[0;36m0\u001b[0m\u001b[0;34m]\u001b[0m \u001b[0;34m=\u001b[0m \u001b[0;34m\"A\"\u001b[0m\u001b[0;34m\u001b[0m\u001b[0;34m\u001b[0m\u001b[0m\n\u001b[0m\u001b[1;32m      3\u001b[0m \u001b[0mprint\u001b[0m\u001b[0;34m(\u001b[0m\u001b[0;34m\"Error, it won't even reach this line\"\u001b[0m\u001b[0;34m)\u001b[0m\u001b[0;34m\u001b[0m\u001b[0;34m\u001b[0m\u001b[0m\n",
      "\u001b[0;31mTypeError\u001b[0m: 'str' object does not support item assignment"
     ]
    }
   ],
   "source": [
    "some_word = \"Immutable/Unchangeable\"\n",
    "some_word[0] = \"A\"\n",
    "print(\"Error, it won't even reach this line\")\n",
    "print(\"You can change the value of a string using its index\")"
   ]
  },
  {
   "cell_type": "markdown",
   "metadata": {},
   "source": [
    "So how do we change or manipulate string values?"
   ]
  },
  {
   "cell_type": "markdown",
   "metadata": {},
   "source": [
    "## String Methods\n",
    "String methods allow us to do a lot of things with strings more than this tutorial can provide, though I will provide some very useful methods. You can find out more about these methods we'll go over and you can also explore all the string methods available in Python using their own documentation [https://docs.python.org/3/library/stdtypes.html#string-methods](https://docs.python.org/3/library/stdtypes.html#string-methods)"
   ]
  },
  {
   "cell_type": "markdown",
   "metadata": {},
   "source": [
    "### .format()\n",
    "this is used to insert values onto a string, you can also add some formatting such as specifying the number of decimal if floating point."
   ]
  },
  {
   "cell_type": "code",
   "execution_count": 30,
   "metadata": {},
   "outputs": [
    {
     "name": "stdout",
     "output_type": "stream",
     "text": [
      "The sum of 1.50 and 2.70 is 4.20\n"
     ]
    }
   ],
   "source": [
    "# We've already seen .format method but we'll review it again\n",
    "x, y = 1.5, 2.7\n",
    "print(\"The sum of {:.2f} and {:.2f} is {:.2f}\".format(x, y, x+y))"
   ]
  },
  {
   "cell_type": "code",
   "execution_count": 27,
   "metadata": {},
   "outputs": [
    {
     "name": "stdout",
     "output_type": "stream",
     "text": [
      "The sum of 1.52 and 2.73 is 4.25\n"
     ]
    }
   ],
   "source": [
    "# We can also render it like this\n",
    "x, y = 1.52, 2.73\n",
    "message = \"The sum of {} and {} is {}\".format(x, y, x+y)\n",
    "# I've decided not to directly put format on print for you to see other ways on how to implement it\n",
    "print(message)"
   ]
  },
  {
   "cell_type": "markdown",
   "metadata": {},
   "source": [
    "We can see that using .format() doesn't modify the print function but it modifies the String being printed where values are placed according to their position in the format method."
   ]
  },
  {
   "cell_type": "code",
   "execution_count": 19,
   "metadata": {
    "scrolled": true
   },
   "outputs": [
    {
     "name": "stdout",
     "output_type": "stream",
     "text": [
      "The sum of 2.7 and 1.5 is 4.2\n"
     ]
    }
   ],
   "source": [
    "# We can actually change the order here a bit using index position, though when we do we have to give\n",
    "# all the placeholders an index value\n",
    "message = \"The sum of {1} and {0} is {2}\".format(x, y, x+y)\n",
    "print(message)"
   ]
  },
  {
   "cell_type": "markdown",
   "metadata": {},
   "source": [
    "### .lower()\n",
    "makes the entire string value in lower case"
   ]
  },
  {
   "cell_type": "code",
   "execution_count": 32,
   "metadata": {},
   "outputs": [
    {
     "name": "stdout",
     "output_type": "stream",
     "text": [
      "my name\n",
      "My Name\n"
     ]
    }
   ],
   "source": [
    "# make My Name into my name\n",
    "message = \"My Name\"\n",
    "print(message.lower())\n",
    "print(message)"
   ]
  },
  {
   "cell_type": "markdown",
   "metadata": {},
   "source": [
    "**Take note** that this does not modify the value of the message variable. It just produces a copy where all the string characters is converted to lower case."
   ]
  },
  {
   "cell_type": "code",
   "execution_count": 22,
   "metadata": {
    "scrolled": true
   },
   "outputs": [
    {
     "name": "stdout",
     "output_type": "stream",
     "text": [
      "Correct response!\n"
     ]
    }
   ],
   "source": [
    "# 1st example\n",
    "# string comparison\n",
    "# yes or Yes\n",
    "response = \"yes\"\n",
    "if response == \"yes\" or response == \"Yes\":\n",
    "    print(\"Correct response!\")\n",
    "else:\n",
    "    print(\"Wrong response\")"
   ]
  },
  {
   "cell_type": "markdown",
   "metadata": {},
   "source": [
    "How about a cornercase where the user got a case wrong?"
   ]
  },
  {
   "cell_type": "code",
   "execution_count": 23,
   "metadata": {},
   "outputs": [
    {
     "name": "stdout",
     "output_type": "stream",
     "text": [
      "Wrong response\n"
     ]
    }
   ],
   "source": [
    "# 1st example (with a twist)\n",
    "# string comparison\n",
    "# yes or Yes\n",
    "response = \"yEs\"\n",
    "if response == \"yes\" or response == \"Yes\":\n",
    "    print(\"Correct response!\")\n",
    "else:\n",
    "    print(\"Wrong response\")"
   ]
  },
  {
   "cell_type": "code",
   "execution_count": 24,
   "metadata": {},
   "outputs": [
    {
     "name": "stdout",
     "output_type": "stream",
     "text": [
      "Correct response!\n"
     ]
    }
   ],
   "source": [
    "# A simple solution if you're just looking whether yes was written (nevermind the case for example)\n",
    "# is to use .lower\n",
    "response = \"yEs\"\n",
    "if response.lower() == \"yes\":\n",
    "    print(\"Correct response!\")\n",
    "else:\n",
    "    print(\"Wrong response\")"
   ]
  },
  {
   "cell_type": "markdown",
   "metadata": {},
   "source": [
    "This is only one use case though, it's up to you to be clever in how you'll be implementing it in your own solutions."
   ]
  },
  {
   "cell_type": "markdown",
   "metadata": {},
   "source": [
    "### .replace()\n",
    "This will allow you to quickly replace all parts of the string based on what you placed in the 1st input, and your replacement in the 2nd input. Here's the syntax:\n",
    "``` python\n",
    ".replace(old, new[, count])\n",
    "```\n",
    "The count is an optional parameter(input) that allows you to only replace 2 instances or 3 or 4 instances of the **old** that was passed in."
   ]
  },
  {
   "cell_type": "code",
   "execution_count": 34,
   "metadata": {},
   "outputs": [
    {
     "name": "stdout",
     "output_type": "stream",
     "text": [
      "The quick brown fox jumped over the lazy dog.\n",
      "The quick brown-fox-jumped-over-the-lazy-dog.\n",
      "The-quick-brown-fox-jumped-over-the-lazy-dog.\n"
     ]
    }
   ],
   "source": [
    "# Example\n",
    "# Take note the effect of .replace() manipulates a copy of the string value (Same as in .lower())\n",
    "sentence = \"The-quick-brown-fox-jumped-over-the-lazy-dog.\"\n",
    "print(sentence.replace('-', ' '))\n",
    "# remove only two instances of '-', it's starts from index 0 (leftmost side)\n",
    "print(sentence.replace('-', ' ', 2))\n",
    "# original value of the sentence variable is not modified.\n",
    "print(sentence) "
   ]
  },
  {
   "cell_type": "markdown",
   "metadata": {},
   "source": [
    "How are you going to make the change permanently modify the sentence variable?"
   ]
  },
  {
   "cell_type": "code",
   "execution_count": 35,
   "metadata": {},
   "outputs": [
    {
     "name": "stdout",
     "output_type": "stream",
     "text": [
      "The quick brown fox jumped over the lazy dog.\n"
     ]
    }
   ],
   "source": [
    "sentence = \"The-quick-brown-fox-jumped-over-the-lazy-dog.\"\n",
    "sentence = sentence.replace('-', ' ')\n",
    "print(sentence)"
   ]
  },
  {
   "cell_type": "markdown",
   "metadata": {},
   "source": [
    "**Note:** Be careful though as this can have unintended consequences if you don't think through its use well enough. \n",
    "\n",
    "**Tip:** It's best not to change the variable holding the original unless you don't need to reference it again. What you might do is put it in another variable instead."
   ]
  },
  {
   "cell_type": "code",
   "execution_count": 41,
   "metadata": {},
   "outputs": [
    {
     "name": "stdout",
     "output_type": "stream",
     "text": [
      "The-quick-brown-fox-jumped-over-the-lazy-dog.\n",
      "The quick brown fox jumped over the lazy dog.\n"
     ]
    }
   ],
   "source": [
    "sentence = \"The-quick-brown-fox-jumped-over-the-lazy-dog.\"\n",
    "new_sentence = sentence.replace('-', ' ')\n",
    "print(sentence)\n",
    "print(new_sentence)"
   ]
  },
  {
   "cell_type": "code",
   "execution_count": 44,
   "metadata": {
    "scrolled": false
   },
   "outputs": [
    {
     "name": "stdout",
     "output_type": "stream",
     "text": [
      "The quick brown fox jumped over the lazy dog.\n",
      "The quick brown dog jumped over the lazy fox.\n"
     ]
    }
   ],
   "source": [
    "## TRY-IT-YOURSELF here and modify the codes\n",
    "# Try swapping the 'fox' and the 'dog' using the .replace() and some programming logic\n",
    "sentence = \"The quick brown fox jumped over the lazy dog.\"\n",
    "print(sentence)\n",
    "# Supposed result\n",
    "print(\"The quick brown dog jumped over the lazy fox.\")"
   ]
  },
  {
   "cell_type": "code",
   "execution_count": 3,
   "metadata": {},
   "outputs": [
    {
     "name": "stdout",
     "output_type": "stream",
     "text": [
      "How-to-render-the-contents-of-a-list?\n"
     ]
    }
   ],
   "source": [
    "to_anchor = \"How to render the contents of a list?\"\n",
    "print(to_anchor.replace(' ','-'))"
   ]
  },
  {
   "cell_type": "markdown",
   "metadata": {},
   "source": [
    "### .find()\n",
    "A quick way to find if a given characater or set of characters in a given strings exists and get the lowest where the pattern occurs. The syntax is shown below:\n",
    "``` python\n",
    ".find(sub[, start[, end]])\n",
    "```\n",
    ".find() will return -1 if no match has been found."
   ]
  },
  {
   "cell_type": "code",
   "execution_count": 49,
   "metadata": {},
   "outputs": [
    {
     "name": "stdout",
     "output_type": "stream",
     "text": [
      "fox was found at index 16\n"
     ]
    }
   ],
   "source": [
    "sentence = \"The quick brown fox jumped over the lazy dog.\"\n",
    "# A good way to avoid calling .find() multiple times is to call it once and store the result in a variable.\n",
    "# Calling a function repeatedly has effects on the memory being used.\n",
    "search_for = \"fox\"\n",
    "result = sentence.find(search_for)\n",
    "if result != -1:\n",
    "    print(f\"fox was found at index {result}\")\n",
    "else:\n",
    "    print(f\"No {search_for} was found.\")"
   ]
  },
  {
   "cell_type": "markdown",
   "metadata": {},
   "source": [
    "If just wanted to know whether fox was in the string without the index location, there is a much simpler way using the **in** operator."
   ]
  },
  {
   "cell_type": "markdown",
   "metadata": {},
   "source": [
    "## in operator\n",
    "The in operator is used to check for membership if it's really in a given sequence type or iterable. Another way to see it is, if it exists in the sequence.\n",
    "\n",
    "Reading from the documentation, we can remember that sequences are (lists, strings, tuples, and dictionaries) and they all support the **in** operator."
   ]
  },
  {
   "cell_type": "code",
   "execution_count": 48,
   "metadata": {},
   "outputs": [
    {
     "name": "stdout",
     "output_type": "stream",
     "text": [
      "True\n",
      "False\n"
     ]
    }
   ],
   "source": [
    "grocery_list = [\"Milk\", \"Eggs\", \"Bread\", \"Bacon\", \"Tuna\"]\n",
    "print(\"Milk\" in grocery_list)\n",
    "# The membership operator takes into consideration Case for string\n",
    "print(\"milk\" in grocery_list)"
   ]
  },
  {
   "cell_type": "code",
   "execution_count": 51,
   "metadata": {},
   "outputs": [
    {
     "name": "stdout",
     "output_type": "stream",
     "text": [
      "True\n",
      "False\n"
     ]
    }
   ],
   "source": [
    "sentence = \"The quick brown fox jumped over the lazy dog.\"\n",
    "print(\"fox\" in sentence)\n",
    "print(\"Fox\" in sentence)"
   ]
  },
  {
   "cell_type": "markdown",
   "metadata": {},
   "source": [
    "## Summary about Strings\n",
    "Strings are used to hold multiple characters in one variable or container. It keeps track of its members using index positions starting either from 0 to n(# of elements) - 1 or the -n(# of elements) to -1 for negative indexes as with lists (though we didn't look at it anymore). Majority of features\n",
    "\n",
    "We know that lists can hold different data types, and its elements can be directly modified/replaced which makes it **Mutable**. We can use various methods to work with lists."
   ]
  },
  {
   "cell_type": "markdown",
   "metadata": {},
   "source": [
    "## 3. Tuples\n",
    "Tuples is a variation of lists and is normally used when you don't want the values inside the element to be modified which can save memory since there is limited manipulation."
   ]
  },
  {
   "cell_type": "markdown",
   "metadata": {},
   "source": [
    "## Differences of Tuples and Lists\n",
    "\n",
    "- Tuples is immutable which means its values cannot be modified after it's been created.\n",
    "- Tuples has fewer methods available and is mostly used to store non-modifiable data.\n",
    "\n",
    "## Similarities\n",
    "\n",
    "- Tuples like lists can be accessed and sliced using indexes.\n",
    "- Tuples can also hold different data types.\n",
    "- Like lists, and strings, tuples can also be passed to a for-loop being a sequence data type.\n",
    "- The len() and in operator can also be used on tuples."
   ]
  },
  {
   "cell_type": "code",
   "execution_count": 55,
   "metadata": {},
   "outputs": [
    {
     "name": "stdout",
     "output_type": "stream",
     "text": [
      "((1810001, 'John', 'Doe', '3rd Year', False), (1910001, 'Mark', 'Ode', '2nd Year', True))\n",
      "(1810001, 'John', 'Doe', '3rd Year', False)\n",
      "(1810001, 'John', 'Doe')\n"
     ]
    }
   ],
   "source": [
    "# Let's say we have retrieved a data record containing (student number, first name, last name, year level, and \n",
    "# if the student is currently enrolled or not)\n",
    "data = ((1810001, \"John\", \"Doe\", \"3rd Year\", False), (1910001, \"Mark\", \"Ode\", \"2nd Year\", True))\n",
    "print(data)\n",
    "# get the first record\n",
    "print(data[0])\n",
    "# get the student number, first name, and last name only\n",
    "print(data[0][:3])"
   ]
  },
  {
   "cell_type": "markdown",
   "metadata": {},
   "source": [
    "## 4. Dictionaries\n",
    "Dictionaries can be looked at as lists with index values that can be non-numeric and elements are not automtically assigned with a numeric index value like in lists, strings, or tuples.\n",
    "\n",
    "Dictionaries are used to hold a group of related information like records as opposed to putting information in a list or tuple like in data (Although there are reasons why sometimes data is stored in a tuple and sometimes it is in a dictionary).\n",
    "\n",
    "The syntax of a dictionary is:\n",
    "``` python\n",
    "{key:value}\n",
    "```\n",
    "The **key** can be any non-dynamic data type meaning the value should be permanent and would not change such as an **integer**, **float**, **string**, and **tuple**. The value can be any valid data type. \n",
    "\n",
    "**Note:** The key should be unique and have no matching values.\n",
    "\n",
    "You can read more about dictionaries in the Python documentation here: [https://docs.python.org/3/tutorial/datastructures.html#tuples-and-sequences](https://docs.python.org/3/tutorial/datastructures.html#tuples-and-sequences)"
   ]
  },
  {
   "cell_type": "code",
   "execution_count": 58,
   "metadata": {},
   "outputs": [
    {
     "name": "stdout",
     "output_type": "stream",
     "text": [
      "Royce\n",
      "Rambo\n",
      "Racoon\n"
     ]
    }
   ],
   "source": [
    "# dictionaries like a list\n",
    "students = {1:\"Royce\", 2:\"Rambo\", 3:\"Racoon\"}\n",
    "print(students[1])\n",
    "print(students[2])\n",
    "print(students[3])"
   ]
  },
  {
   "cell_type": "code",
   "execution_count": 1,
   "metadata": {},
   "outputs": [
    {
     "name": "stdout",
     "output_type": "stream",
     "text": [
      "{'student_no': 1410950, 'first_name': 'Royce', 'last_name': 'Chua', 'is_enrolled': False}\n",
      "1410950\n",
      "Royce\n",
      "Chua\n",
      "False\n"
     ]
    }
   ],
   "source": [
    "# One use of dictionaries \n",
    "my_record = {\"student_no\":1410950, \"first_name\": \"Royce\", \"last_name\": \"Chua\", \"is_enrolled\": False}\n",
    "# print the entire record\n",
    "print(my_record)\n",
    "# print values based on the keys\n",
    "print(my_record[\"student_no\"])\n",
    "print(my_record[\"first_name\"])\n",
    "print(my_record[\"last_name\"])\n",
    "print(my_record[\"is_enrolled\"])"
   ]
  },
  {
   "cell_type": "markdown",
   "metadata": {},
   "source": [
    "## Dictionary Methods \n",
    "Some dictionary methods are shown below which can help you in implementing solutions where a dictionary is needed. Some common dictionary methods you'll see"
   ]
  },
  {
   "cell_type": "code",
   "execution_count": 9,
   "metadata": {},
   "outputs": [
    {
     "name": "stdout",
     "output_type": "stream",
     "text": [
      "student_no 1410950\n",
      "first_name Royce\n",
      "last_name Chua\n",
      "is_enrolled False\n"
     ]
    }
   ],
   "source": [
    "# loop through the keys and their corresponding value\n",
    "# .items() returns two values which can be assigned to 2 variables (which we chose to be k and v)\n",
    "for k, v in my_record.items():\n",
    "    # print the key and value\n",
    "    print(k, v)"
   ]
  },
  {
   "cell_type": "code",
   "execution_count": 13,
   "metadata": {},
   "outputs": [
    {
     "name": "stdout",
     "output_type": "stream",
     "text": [
      "student_no 1410950\n",
      "first_name Royce\n",
      "last_name Chua\n",
      "is_enrolled False\n"
     ]
    }
   ],
   "source": [
    "# loop through the keys and their corresponding value\n",
    "for k, v in my_record.items():\n",
    "    # print the key and value\n",
    "    print(k, v)"
   ]
  },
  {
   "cell_type": "code",
   "execution_count": 10,
   "metadata": {},
   "outputs": [
    {
     "name": "stdout",
     "output_type": "stream",
     "text": [
      "student_no\n",
      "first_name\n",
      "last_name\n",
      "is_enrolled\n"
     ]
    }
   ],
   "source": [
    "# loop through all the keys\n",
    "for k in my_record.keys():\n",
    "    print(k)"
   ]
  },
  {
   "cell_type": "code",
   "execution_count": 12,
   "metadata": {},
   "outputs": [
    {
     "name": "stdout",
     "output_type": "stream",
     "text": [
      "1410950\n",
      "Royce\n",
      "Chua\n",
      "False\n"
     ]
    }
   ],
   "source": [
    "# loop through all the values\n",
    "for v in my_record.values():\n",
    "    print(v)"
   ]
  },
  {
   "cell_type": "code",
   "execution_count": 15,
   "metadata": {},
   "outputs": [
    {
     "name": "stdout",
     "output_type": "stream",
     "text": [
      "{'student_no': 1410950, 'first_name': 'Royce', 'last_name': 'Chua', 'is_enrolled': False, 'year_level': 4}\n"
     ]
    }
   ],
   "source": [
    "# To add a new key to the record\n",
    "my_record.update({\"year_level\":4})\n",
    "print(my_record)"
   ]
  },
  {
   "cell_type": "code",
   "execution_count": 16,
   "metadata": {},
   "outputs": [
    {
     "name": "stdout",
     "output_type": "stream",
     "text": [
      "{'student_no': 1410950, 'first_name': 'Royce', 'last_name': 'Chua', 'is_enrolled': False}\n"
     ]
    }
   ],
   "source": [
    "# To remove a key\n",
    "my_record.pop(\"year_level\")\n",
    "print(my_record)"
   ]
  },
  {
   "cell_type": "code",
   "execution_count": 20,
   "metadata": {},
   "outputs": [
    {
     "name": "stdout",
     "output_type": "stream",
     "text": [
      "1410950\n",
      "None\n"
     ]
    }
   ],
   "source": [
    "# To get the value given the key\n",
    "print(my_record.get(\"student_no\"))\n",
    "# This method will return None when the key doesn't exist.\n",
    "print(my_record.get(\"somekey\"))"
   ]
  },
  {
   "cell_type": "markdown",
   "metadata": {},
   "source": [
    "## Summary\n",
    "In this tutorial, we've explored a lot about Python sequences or the list, strings, tuples, and dictionary data types. Each of them has their own properties, methods, and use cases and should be thoroughly understood and compared against each one to properly use them in a solution to any problems you can encounter in programming."
   ]
  },
  {
   "cell_type": "markdown",
   "metadata": {},
   "source": [
    "## Additional References/Readings:\n",
    "- Wiki books Python Sequences - [https://en.wikibooks.org/wiki/Python_Programming/Sequences](https://en.wikibooks.org/wiki/Python_Programming/Sequences)\n",
    "- Python Documentation - [https://docs.python.org/3/tutorial/datastructures.html](https://docs.python.org/3/tutorial/datastructures.html)"
   ]
  },
  {
   "cell_type": "markdown",
   "metadata": {},
   "source": [
    "© 2020 Made by Royce Chua. All rights reserved."
   ]
  }
 ],
 "metadata": {
  "kernelspec": {
   "display_name": "Python 3",
   "language": "python",
   "name": "python3"
  },
  "language_info": {
   "codemirror_mode": {
    "name": "ipython",
    "version": 3
   },
   "file_extension": ".py",
   "mimetype": "text/x-python",
   "name": "python",
   "nbconvert_exporter": "python",
   "pygments_lexer": "ipython3",
   "version": "3.7.4"
  }
 },
 "nbformat": 4,
 "nbformat_minor": 2
}
