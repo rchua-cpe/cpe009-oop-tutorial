{
 "cells": [
  {
   "cell_type": "markdown",
   "metadata": {},
   "source": [
    "# CPE 009 - Programming Tutorials (The input() function)"
   ]
  },
  {
   "cell_type": "markdown",
   "metadata": {},
   "source": [
    "In this module, we have TRY IT YOURSELF exercises wherein you'll try to fix the problem using the concepts and examples we've learned from previous cells later as we progress in the notebook.\n",
    "``` python\n",
    "## TRY IT YOURSELF\n",
    "```\n",
    "You may experiment the code with it freely here using Google Colab but you cannot save."
   ]
  },
  {
   "cell_type": "markdown",
   "metadata": {},
   "source": [
    "# 1. Getting input from the user\n",
    "So far, we've only been manipulating data we've already placed inside the program. Now we want to get some input from the user."
   ]
  },
  {
   "cell_type": "code",
   "execution_count": 1,
   "metadata": {},
   "outputs": [
    {
     "name": "stdout",
     "output_type": "stream",
     "text": [
      "Enter your name: \n",
      "Royce\n",
      "Hi Royce, Welcome to the Tutorial!\n"
     ]
    }
   ],
   "source": [
    "# One way to get input is this code\n",
    "print(\"Enter your name: \")\n",
    "name = input()\n",
    "print(f\"Hi {name}, Welcome to the Tutorial!\")"
   ]
  },
  {
   "cell_type": "markdown",
   "metadata": {},
   "source": [
    "In Python, we can simplify this by passing an input to the input() function"
   ]
  },
  {
   "cell_type": "code",
   "execution_count": 2,
   "metadata": {},
   "outputs": [
    {
     "name": "stdout",
     "output_type": "stream",
     "text": [
      "Enter your name: Royce\n",
      "Hi Royce, Welcome to the Tutorial!\n"
     ]
    }
   ],
   "source": [
    "# Python refers to this as the prompt message\n",
    "name = input(\"Enter your name: \")\n",
    "print(f\"Hi {name}, Welcome to the Tutorial!\")"
   ]
  },
  {
   "cell_type": "code",
   "execution_count": 3,
   "metadata": {},
   "outputs": [
    {
     "name": "stdout",
     "output_type": "stream",
     "text": [
      "Enter a number: 1\n",
      "Enter a number: 2\n",
      "The sum is 12.\n"
     ]
    }
   ],
   "source": [
    "# Let's try this with numbers\n",
    "num1 = input(\"Enter a number: \")\n",
    "num2 = input(\"Enter a number: \")\n",
    "sum = num1 + num2\n",
    "print(f\"The sum is {sum}.\")\n",
    "# Is the output correct?\n",
    "# Try checking by using type() function\n",
    "# Why do you think the output was what it was?\n",
    "## TRY IT YOURSERLF, TYPE YOUR CODE HERE\n",
    "\n"
   ]
  },
  {
   "cell_type": "markdown",
   "metadata": {},
   "source": [
    "## 2. Data Type Converter Functions\n",
    "By default the input() function returns the data it gets from the users keyboard in string format. We need a way to convert a string text to integer. In Python there are data type converter functions readily available."
   ]
  },
  {
   "cell_type": "code",
   "execution_count": 4,
   "metadata": {},
   "outputs": [
    {
     "name": "stdout",
     "output_type": "stream",
     "text": [
      "The sum is 3.\n"
     ]
    }
   ],
   "source": [
    "num1 = int(\"1\")\n",
    "num2 = int(\"2\")\n",
    "sum = num1 + num2\n",
    "print(f\"The sum is {sum}.\")"
   ]
  },
  {
   "cell_type": "markdown",
   "metadata": {},
   "source": [
    "**Question:** If \"1\" gets converted to 1. How can we now make a program that will be able to convert our user input to numbers and make a proper addition program?"
   ]
  },
  {
   "cell_type": "code",
   "execution_count": 2,
   "metadata": {},
   "outputs": [
    {
     "name": "stdout",
     "output_type": "stream",
     "text": [
      "Enter a number: 2\n",
      "<class 'int'>\n"
     ]
    }
   ],
   "source": [
    "# Hint:\n",
    "var1 = int(input(\"Enter a number: \"))\n",
    "print(type(var1))"
   ]
  },
  {
   "cell_type": "markdown",
   "metadata": {},
   "source": [
    "**Hint:** print(input(\"Enter your message here\")) ---> print(\"2\") ---> Successfully displayed on screen."
   ]
  },
  {
   "cell_type": "code",
   "execution_count": 4,
   "metadata": {},
   "outputs": [
    {
     "name": "stdout",
     "output_type": "stream",
     "text": [
      "The sum is 3.\n"
     ]
    }
   ],
   "source": [
    "## TRY IT YOURSELF. Modify the code so that the program asks for the 2 numbers from the users \n",
    "# and will print the correct sum.\n",
    "num1 = int(\"1\")\n",
    "num2 = int(\"2\")\n",
    "sum = num1 + num2\n",
    "print(f\"The sum is {sum}.\")"
   ]
  },
  {
   "cell_type": "markdown",
   "metadata": {},
   "source": [
    "## Other Examples"
   ]
  },
  {
   "cell_type": "markdown",
   "metadata": {},
   "source": [
    "### 1. Temperature Converter with User Input\n",
    "Create a program that can accept an input Celsius value from the user and display its Fahrenheit and Kelvin equivalent similar to this output\n",
    "\n",
    "```\n",
    "Enter the temperature in Celsius: 27.3\n",
    "Fahrenheit value is: 81.14\n",
    "Kelvin value is: 300.45\n",
    "```"
   ]
  },
  {
   "cell_type": "code",
   "execution_count": 6,
   "metadata": {},
   "outputs": [
    {
     "name": "stdout",
     "output_type": "stream",
     "text": [
      "Enter the temperature in Celsius: 27.3\n",
      "Fahrenheit value is: 81.14\n",
      "Kelvin value is: 300.45\n"
     ]
    }
   ],
   "source": [
    "celsius = float(input(\"Enter the temperature in Celsius: \"))\n",
    "fahreinheit = (celsius * (9/5)) + 32\n",
    "kelvin = celsius + 273.15\n",
    "print(f\"Fahrenheit value is: {fahreinheit}\")\n",
    "print(f\"Kelvin value is: {kelvin}\")"
   ]
  },
  {
   "cell_type": "markdown",
   "metadata": {},
   "source": [
    "### 2. Calculate the Area of a Triangle\n",
    "Create a program that can accept an input base and height of a triangle then the program should return the area of the triangle. Refer to the area formula below:\n",
    "\n",
    "$$A_{triangle}=\\frac{1}{2}bh$$\n",
    "\n",
    "Expected output (Neglecting the unit): \n",
    "```\n",
    "Enter the base: 6\n",
    "Enter the height: 3\n",
    "The area of the triangle is: 9\n",
    "```"
   ]
  },
  {
   "cell_type": "code",
   "execution_count": 1,
   "metadata": {},
   "outputs": [
    {
     "name": "stdout",
     "output_type": "stream",
     "text": [
      "Enter the base: 6\n",
      "Enter the height: 3\n",
      "The area of the triangle is: 9.0\n"
     ]
    }
   ],
   "source": [
    "base = float(input(\"Enter the base: \"))\n",
    "height = float(input(\"Enter the height: \"))\n",
    "area = (1/2) * base * height\n",
    "print(f\"The area of the triangle is: {area}\")"
   ]
  }
 ],
 "metadata": {
  "kernelspec": {
   "display_name": "Python 3",
   "language": "python",
   "name": "python3"
  },
  "language_info": {
   "codemirror_mode": {
    "name": "ipython",
    "version": 3
   },
   "file_extension": ".py",
   "mimetype": "text/x-python",
   "name": "python",
   "nbconvert_exporter": "python",
   "pygments_lexer": "ipython3",
   "version": "3.7.4"
  }
 },
 "nbformat": 4,
 "nbformat_minor": 2
}
