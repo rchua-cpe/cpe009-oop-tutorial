{
 "cells": [
  {
   "cell_type": "markdown",
   "metadata": {},
   "source": [
    "# CPE 009 - Programming Tutorials (Variables, Literals, and Operators)"
   ]
  },
  {
   "cell_type": "markdown",
   "metadata": {},
   "source": [
    "\n",
    "## 1. Variables are containers of data\n",
    "We generally assign values to variables using the = (equals) known as the 'Assignment Operator'.\n",
    "\n",
    "**Remember**: to run a Code Cell you can click on the cell and press Run or click on the cell then press Ctrl+Enter."
   ]
  },
  {
   "cell_type": "code",
   "execution_count": 2,
   "metadata": {},
   "outputs": [
    {
     "name": "stdout",
     "output_type": "stream",
     "text": [
      "123\n"
     ]
    }
   ],
   "source": [
    "# value holds the value 123\n",
    "value = 123 \n",
    "print(value)"
   ]
  },
  {
   "cell_type": "markdown",
   "metadata": {},
   "source": [
    "## 2. Variable Data Types"
   ]
  },
  {
   "cell_type": "markdown",
   "metadata": {},
   "source": [
    "There are different data types in Python as with other Programming languages: For this tutorial, we will be looking at the **int**, **float**, **list**, **tuple**, **dictionary**, a combination of two data types, and the **None** type. "
   ]
  },
  {
   "cell_type": "code",
   "execution_count": 6,
   "metadata": {
    "scrolled": true
   },
   "outputs": [
    {
     "name": "stdout",
     "output_type": "stream",
     "text": [
      "Juan Dela Cruz\n",
      "22.5\n",
      "[55, 70, 60, 90, 50]\n",
      "['Coding', 'Drawing', 'Singing']\n",
      "True\n",
      "{'firstname': 'Cristina', 'lastname': 'Dela Fuente', 'contactno': '09065772562', 'age': 45}\n",
      "[{'student_id': 1810001, 'name': 'Joey Sy'}, {'student_Id': 1910001, 'name': 'Jane Cassandra'}]\n",
      "None\n"
     ]
    }
   ],
   "source": [
    "# This is a string/str data type\n",
    "name = \"Juan Dela Cruz\"\n",
    "\n",
    "# This is an integer/int data type\n",
    "age = 22\n",
    "\n",
    "# This is a float data type\n",
    "age = 22.5\n",
    "\n",
    "# This is a list data type\n",
    "scores = [55, 70, 60, 90, 50]\n",
    "skills = [\"Coding\", \"Drawing\", \"Singing\"]\n",
    "\n",
    "# This is a bool data type\n",
    "is_student = True\n",
    "\n",
    "# This is a dictionary data type\n",
    "guardian_info = {\"firstname\": \"Cristina\", \"lastname\": \"Dela Fuente\", \"contactno\": \"09065772562\", \"age\": 45 }\n",
    "# another way to write it is\n",
    "guardian_info = {\n",
    "                \"firstname\": \"Cristina\", \n",
    "                \"lastname\": \"Dela Fuente\", \n",
    "                \"contactno\": \"09065772562\", \n",
    "                \"age\": 45\n",
    "                }\n",
    "\n",
    "# This is an example of a list data type with a dictionary data type as its contents.\n",
    "friends = [\n",
    "            {\"student_id\":1810001, \"name\": \"Joey Sy\"},\n",
    "            {\"student_Id\":1910001, \"name\": \"Jane Cassandra\"},\n",
    "          ]\n",
    "# This is a None type\n",
    "varx = None\n",
    "\n",
    "# Display the values\n",
    "print(name)\n",
    "print(age)\n",
    "print(scores)\n",
    "print(skills)\n",
    "print(is_student)\n",
    "print(guardian_info)\n",
    "print(friends)\n",
    "print(varx)\n"
   ]
  },
  {
   "cell_type": "markdown",
   "metadata": {},
   "source": [
    "We will be exploring these data types throughout the modules"
   ]
  },
  {
   "cell_type": "markdown",
   "metadata": {},
   "source": [
    "## 3. Python is a Dynamically typed language\n",
    "This means it determines what data type a variable should be based on the value it is assigned at runtime in each line of code "
   ]
  },
  {
   "cell_type": "code",
   "execution_count": 3,
   "metadata": {},
   "outputs": [
    {
     "name": "stdout",
     "output_type": "stream",
     "text": [
      "123\n",
      "Some Word\n"
     ]
    }
   ],
   "source": [
    "# Assign a number (int literal) to value variable\n",
    "value = 123 \n",
    "print(value)\n",
    "# Assign a string literal to the same value variable\n",
    "value = \"Some Word\"\n",
    "print(value)"
   ]
  },
  {
   "cell_type": "markdown",
   "metadata": {},
   "source": [
    "Python automatically determines the data type at runtime when the program is executed which is also why Python is known as a **Dynamicaly Typed Language**."
   ]
  },
  {
   "cell_type": "code",
   "execution_count": 9,
   "metadata": {},
   "outputs": [
    {
     "name": "stdout",
     "output_type": "stream",
     "text": [
      "<class 'int'>\n",
      "<class 'float'>\n",
      "<class 'str'>\n"
     ]
    }
   ],
   "source": [
    "# Recall age\n",
    "age = 22\n",
    "# We'll use the type() built-in function to look at its type\n",
    "print(type(age))\n",
    "# In Python, the data type of a variable can change over time\n",
    "age = 22.5\n",
    "print(type(age))\n",
    "# Exercise this knowledge with caution\n",
    "age = \"22.5\"\n",
    "print(type(age))"
   ]
  },
  {
   "cell_type": "markdown",
   "metadata": {},
   "source": [
    "Normally, this wouldn't be readily possible in Compiled Languages such as C where memory is pre-allocated when we declare the variable's data type.\n",
    "``` C\n",
    "// in C\n",
    "int value = 123;\n",
    "```"
   ]
  },
  {
   "cell_type": "markdown",
   "metadata": {},
   "source": [
    "## 4.1 Multiple Variable Assignment\n",
    "We can assign values to multiple variables all in one line. It has to be in the correct order though"
   ]
  },
  {
   "cell_type": "code",
   "execution_count": 10,
   "metadata": {},
   "outputs": [
    {
     "name": "stdout",
     "output_type": "stream",
     "text": [
      "Juan Dela Cruz 22\n"
     ]
    }
   ],
   "source": [
    "# This is called multiple variable assignment\n",
    "name, age = 'Juan Dela Cruz', 22\n",
    "# or \n",
    "name, age = ('Juan Dela Cruz', 22)\n",
    "print(name, age)"
   ]
  },
  {
   "cell_type": "markdown",
   "metadata": {},
   "source": [
    "## 4.2 String Formatting / Displaying Variable Data\n",
    "To display data along with our messages (most likely in string), in the latest version of Python, we have 3 alternatives to choose from. We can use use the **f-strings**, using the **.format()** method, and using **C-style string formatting** or simply by using print()."
   ]
  },
  {
   "cell_type": "code",
   "execution_count": 14,
   "metadata": {},
   "outputs": [
    {
     "name": "stdout",
     "output_type": "stream",
     "text": [
      "Your name is Juan Dela Cruz and your age is 22\n",
      "Your name is Juan Dela Cruz and your age is 22\n",
      "Your name is Juan Dela Cruz and your age is 22\n",
      "Your name is Juan Dela Cruz and your age is 23\n"
     ]
    }
   ],
   "source": [
    "print(f\"Your name is {name} and your age is {age}\")\n",
    "print(\"Your name is %s and your age is %d\" % (name, age))\n",
    "print(\"Your name is {} and your age is {}\".format(name, age))\n",
    "print(\"Your name is\", name, \"and your age is\", age)"
   ]
  },
  {
   "cell_type": "markdown",
   "metadata": {},
   "source": [
    "## 4.3 Variable Value Swapping\n",
    "Variable value swapping is a handy technique in some algorithms were you need to swap the values of two variables, it's most useful in implementing algorithms."
   ]
  },
  {
   "cell_type": "code",
   "execution_count": 15,
   "metadata": {},
   "outputs": [
    {
     "name": "stdout",
     "output_type": "stream",
     "text": [
      "Before: 1, 2\n",
      "After: 2, 1\n"
     ]
    }
   ],
   "source": [
    "# In Compiled languages, to perform a swap of values \n",
    "# You would need to do the swap with a temporary variable \n",
    "a = 1\n",
    "b = 2\n",
    "print(f\"Before: {a}, {b}\")\n",
    "tmp = b \n",
    "b = a\n",
    "a = tmp \n",
    "print(f\"After: {a}, {b}\")"
   ]
  },
  {
   "cell_type": "code",
   "execution_count": 16,
   "metadata": {},
   "outputs": [
    {
     "name": "stdout",
     "output_type": "stream",
     "text": [
      "Before: 4, 5\n",
      "After: 5, 4\n"
     ]
    }
   ],
   "source": [
    "# In Python, we can do a more simpler approach which doesn't need a 3rd variable\n",
    "a, b = 4, 5\n",
    "print(f\"Before: {a}, {b}\")\n",
    "b, a = a, b\n",
    "print(f\"After: {a}, {b}\")"
   ]
  },
  {
   "cell_type": "markdown",
   "metadata": {},
   "source": [
    "## 5. Operators \n",
    "In Python there are different kinds of operators as with other programming languages: **Arithemtic**, **Relational**, **Boolean**, and **Bitwise** operators."
   ]
  },
  {
   "cell_type": "markdown",
   "metadata": {},
   "source": [
    "## 5.1 Arithmetic Operators\n",
    "Arithmetic Operations are primarily used on int and float values, there are some exceptions for other data types but only for some arithmetic operators though they're name is different."
   ]
  },
  {
   "cell_type": "code",
   "execution_count": 20,
   "metadata": {},
   "outputs": [
    {
     "name": "stdout",
     "output_type": "stream",
     "text": [
      "3\n",
      "-1\n",
      "2\n",
      "0.5\n",
      "0\n",
      "1\n",
      "8\n"
     ]
    }
   ],
   "source": [
    "# Arithmetic Operators (+, -, *, /, //, %, **)\n",
    "# Addition (Sum)\n",
    "print(1+2)\n",
    "\n",
    "# Subtraction (Difference)\n",
    "print(1-2)\n",
    "\n",
    "# Multiplication\n",
    "print(1*2)\n",
    "\n",
    "# Division (quotient automatically results in float if result included a decimal)\n",
    "print(1/2)\n",
    "\n",
    "# Floor division (ex. 0.5 ~ 0)\n",
    "print(1//2)\n",
    "\n",
    "# Modulo Operation (Remainder)\n",
    "print(1%2)\n",
    "\n",
    "# Exponent\n",
    "print(2**3)"
   ]
  },
  {
   "cell_type": "markdown",
   "metadata": {},
   "source": [
    "**Reminder:** You can store these operations/computations in variables."
   ]
  },
  {
   "cell_type": "code",
   "execution_count": 27,
   "metadata": {},
   "outputs": [
    {
     "name": "stdout",
     "output_type": "stream",
     "text": [
      "3\n"
     ]
    }
   ],
   "source": [
    "num1, num2 = 1, 2\n",
    "sum = num1 + num2\n",
    "print(sum)"
   ]
  },
  {
   "cell_type": "markdown",
   "metadata": {},
   "source": [
    "Some examples where some arithmetic operators can be used on other data types but have different effect are in (but not limited to) strings. We'll explore lists and tuples later. "
   ]
  },
  {
   "cell_type": "code",
   "execution_count": 21,
   "metadata": {},
   "outputs": [
    {
     "name": "stdout",
     "output_type": "stream",
     "text": [
      "JohnDoe\n",
      "John Doe\n",
      "Hi there! Hi there! Hi there! Hi there! Hi there! Hi there! Hi there! Hi there! Hi there! Hi there! \n"
     ]
    }
   ],
   "source": [
    "# What happens when we apply the addition operator (+) to Strings\n",
    "first_name = \"John\"\n",
    "last_name = \"Doe\"\n",
    "# Addition causes Concatenation or Appending (from left to right)\n",
    "print(first_name + last_name)\n",
    "print(first_name + \" \" + last_name) \n",
    "\n",
    "# Multiplication\n",
    "print(\"Hi there! \" * 10)\n",
    "# Subtraction, Division, Modulo and other Arithmetic Operators are \n",
    "# not supported by strings"
   ]
  },
  {
   "cell_type": "markdown",
   "metadata": {},
   "source": [
    "## 5.2 Relational Operators\n",
    "Relational operators describes comparisons between two values. Relational operators only results in 2 values: **True** or **False**. "
   ]
  },
  {
   "cell_type": "code",
   "execution_count": 23,
   "metadata": {},
   "outputs": [
    {
     "name": "stdout",
     "output_type": "stream",
     "text": [
      "True\n",
      "False\n",
      "False\n",
      "True\n",
      "True\n",
      "True\n",
      "False\n"
     ]
    }
   ],
   "source": [
    "# Relational Operators (>,<,==,!=, >=, <=)\n",
    "# Greater than\n",
    "print(2 > 1)\n",
    "# Less than\n",
    "print(2 < 1)\n",
    "# Equal\n",
    "print(2 == 1)\n",
    "print(2 == 2)\n",
    "# Not equal\n",
    "print(2 != 1)\n",
    "# Greater than or equal\n",
    "print(2 >= 1)\n",
    "# Less than or equal \n",
    "print(2 <= 1)"
   ]
  },
  {
   "cell_type": "markdown",
   "metadata": {},
   "source": [
    "Relational operators(involving greater than or less than) are mostly used in numbers and the Equality/Non-Equality operators can be used in Strings, Lists, and Tupples "
   ]
  },
  {
   "cell_type": "code",
   "execution_count": 29,
   "metadata": {},
   "outputs": [
    {
     "name": "stdout",
     "output_type": "stream",
     "text": [
      "False\n",
      "True\n"
     ]
    }
   ],
   "source": [
    "name1 = \"Jake\"\n",
    "name2 = \"Bake\"\n",
    "print(name1 == name2)\n",
    "name2 = \"Jake\"\n",
    "print(name1 == name2)"
   ]
  },
  {
   "cell_type": "markdown",
   "metadata": {},
   "source": [
    "## 5.3 Boolean Operators\n",
    "Boolean Operators deal with values that are either **True(1)** or **False(0)**. This can come from a variable assigned with a True or False value or from Relational Operator Comparisons (more common)."
   ]
  },
  {
   "cell_type": "code",
   "execution_count": 24,
   "metadata": {},
   "outputs": [
    {
     "name": "stdout",
     "output_type": "stream",
     "text": [
      "False\n",
      "False\n",
      "False\n",
      "True\n"
     ]
    }
   ],
   "source": [
    "# Boolean Operators (and, or, not) \n",
    "# Note: the keywords are case sensitive\n",
    "# 4 Possible combinations with the and keyword and two Boolean values\n",
    "print(False and False)\n",
    "print(False and True)\n",
    "print(True and False)\n",
    "print(True and True) "
   ]
  },
  {
   "cell_type": "markdown",
   "metadata": {},
   "source": [
    "The ***and*** operator will remain False unless both values are True."
   ]
  },
  {
   "cell_type": "code",
   "execution_count": 25,
   "metadata": {},
   "outputs": [
    {
     "name": "stdout",
     "output_type": "stream",
     "text": [
      "False\n",
      "True\n",
      "True\n",
      "True\n"
     ]
    }
   ],
   "source": [
    "# 4 Possible combinations with the or keyword and two Boolean values\n",
    "print(False or False)\n",
    "print(False or True)\n",
    "print(True or False)\n",
    "print(True or True) "
   ]
  },
  {
   "cell_type": "markdown",
   "metadata": {},
   "source": [
    "The ***or*** operator will remain True unless both values are False."
   ]
  },
  {
   "cell_type": "code",
   "execution_count": 26,
   "metadata": {},
   "outputs": [
    {
     "name": "stdout",
     "output_type": "stream",
     "text": [
      "False\n",
      "True\n"
     ]
    }
   ],
   "source": [
    "# Not (gets the complement or opposite of the Boolean Value) \n",
    "print(not True)\n",
    "print(not False)"
   ]
  },
  {
   "cell_type": "markdown",
   "metadata": {},
   "source": [
    "**Note:** True or False values can be derived from the result when operations involving Relational operators are performed."
   ]
  },
  {
   "cell_type": "code",
   "execution_count": 30,
   "metadata": {},
   "outputs": [
    {
     "name": "stdout",
     "output_type": "stream",
     "text": [
      "True\n"
     ]
    }
   ],
   "source": [
    "response = \"yes\"\n",
    "# Print the result when yes or Yes is evaluated\n",
    "print(response == \"yes\" or response == \"Yes\")"
   ]
  },
  {
   "cell_type": "markdown",
   "metadata": {},
   "source": [
    "## 5.3 Bitwise Operators\n",
    "Operators that are used in low level operations are Bitwise Operators. Bits are binary digits whose only values are 1 and 0. Everything you see in a program eventually gets converted to 1's and 0's. We can directly perform operations with numbers and characters at their bit values. These operations are similar to some Boolean Operators and some operators in Discrete Math such as XOR."
   ]
  },
  {
   "cell_type": "code",
   "execution_count": 22,
   "metadata": {},
   "outputs": [
    {
     "name": "stdout",
     "output_type": "stream",
     "text": [
      "0\n",
      "1\n",
      "-2\n",
      "1\n",
      "8\n",
      "0\n"
     ]
    }
   ],
   "source": [
    "# Bitwise AND\n",
    "print(1 & 0)  # The result will only be 1 when both bits are 1\n",
    "# Bitwise OR\n",
    "print(1 | 0)  # When at least one of the bit is 1, the result will immediately be 1\n",
    "# Bitwise Complement\n",
    "print(~1) # If 1 then complement or opposite is 0, likewise if 0 then complement is 1\n",
    "# Bitwise XOR\n",
    "print(1 ^ 0)  # When the two bits are not of the same value, the result is 1 (w/c means 1 ^ 0 or 0 ^ 1 will result in 1)\n",
    "# Bitwise Shift (left)\n",
    "print(1 << 3) # 00000001 shift/move 1 three times to the left => # 00001000 => decimal equivalent is 8\n",
    "# Bitwise Shift (right)\n",
    "print(1 >> 2) # 00000001 shift/move 1 two times to the left => # 000000000|00 => decimal equivalent is 0"
   ]
  }
 ],
 "metadata": {
  "kernelspec": {
   "display_name": "Python 3",
   "language": "python",
   "name": "python3"
  },
  "language_info": {
   "codemirror_mode": {
    "name": "ipython",
    "version": 3
   },
   "file_extension": ".py",
   "mimetype": "text/x-python",
   "name": "python",
   "nbconvert_exporter": "python",
   "pygments_lexer": "ipython3",
   "version": "3.7.4"
  }
 },
 "nbformat": 4,
 "nbformat_minor": 2
}
