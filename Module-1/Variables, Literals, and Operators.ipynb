{
  "nbformat": 4,
  "nbformat_minor": 0,
  "metadata": {
    "kernelspec": {
      "display_name": "Python 3",
      "language": "python",
      "name": "python3"
    },
    "language_info": {
      "codemirror_mode": {
        "name": "ipython",
        "version": 3
      },
      "file_extension": ".py",
      "mimetype": "text/x-python",
      "name": "python",
      "nbconvert_exporter": "python",
      "pygments_lexer": "ipython3",
      "version": "3.7.4"
    },
    "colab": {
      "name": "Variables, Literals, and Operators.ipynb",
      "provenance": [],
      "toc_visible": true
    }
  },
  "cells": [
    {
      "cell_type": "markdown",
      "metadata": {
        "id": "1G9F4vX0yJW7",
        "colab_type": "text"
      },
      "source": [
        "# CPE 009 - Programming Tutorials (Variables, Literals, and Operators)"
      ]
    },
    {
      "cell_type": "markdown",
      "metadata": {
        "id": "jdqZWwuNyJW9",
        "colab_type": "text"
      },
      "source": [
        "\n",
        "## 1. Variables are containers of data\n",
        "We generally assign values to variables using the = (equals) known as the 'Assignment Operator'.\n",
        "\n",
        "**Remember**: to run a Code Cell you can click on the cell and press Run or click on the cell then press Ctrl+Enter."
      ]
    },
    {
      "cell_type": "code",
      "metadata": {
        "id": "3ATEY-OryJW_",
        "colab_type": "code",
        "colab": {
          "base_uri": "https://localhost:8080/",
          "height": 34
        },
        "outputId": "9725d3c5-3ee2-48c5-c6ff-d681ee8cfafa"
      },
      "source": [
        "# value holds the value 123\n",
        "value = 123\n",
        "print(value)"
      ],
      "execution_count": 33,
      "outputs": [
        {
          "output_type": "stream",
          "text": [
            "123\n"
          ],
          "name": "stdout"
        }
      ]
    },
    {
      "cell_type": "markdown",
      "metadata": {
        "id": "vTWhI63ayJXL",
        "colab_type": "text"
      },
      "source": [
        "## 2. Variable Data Types"
      ]
    },
    {
      "cell_type": "markdown",
      "metadata": {
        "id": "aKhonNvEyJXN",
        "colab_type": "text"
      },
      "source": [
        "There are different data types in Python as with other Programming languages: For this tutorial, we will be looking at the **int**, **float**, **list**, **tuple**, **dictionary**, and the **None** type. "
      ]
    },
    {
      "cell_type": "code",
      "metadata": {
        "scrolled": true,
        "id": "uzk2gChryJXN",
        "colab_type": "code",
        "colab": {
          "base_uri": "https://localhost:8080/",
          "height": 225
        },
        "outputId": "51663b27-80a6-4444-a6af-b69a94ed82a6"
      },
      "source": [
        "# This is a string/str data type\n",
        "name = \"Juan Dela Cruz\"\n",
        "\n",
        "# This is an integer/int data type\n",
        "age = 22\n",
        "\n",
        "# This is a float data type\n",
        "age = 22.5\n",
        "\n",
        "# This is a list data type\n",
        "scores_list = [55, 70, 60, 90, 50]\n",
        "skills_list = [\"Coding\", \"Drawing\", \"Singing\"]\n",
        "some_list = [\"1\",1,2.2,\"Bike\"]\n",
        "\n",
        "# This is a tuple data type\n",
        "scores_tuple = (55, 70, 60, 90, 50)\n",
        "skills_tuple = (\"Coding\", \"Drawing\", \"Singing\")\n",
        "some_tuple = (\"1\",1,2.2,\"Bike\")\n",
        "\n",
        "# This is a bool data type\n",
        "is_student = False\n",
        "\n",
        "# This is a dictionary data type\n",
        "guardian_info = {\"firstname\": \"Cristina\", \"lastname\": \"Dela Fuente\", \"contactno\": \"09065772562\", \"age\": 45 }\n",
        "\n",
        "\n",
        "# This is a None type\n",
        "varx = None\n",
        "\n",
        "# Display the values\n",
        "print(name)\n",
        "print(age)\n",
        "print(scores_list)\n",
        "print(skills_list)\n",
        "print(some_list)\n",
        "print(scores_tuple)\n",
        "print(skills_tuple)\n",
        "print(some_tuple)\n",
        "print(is_student)\n",
        "print(guardian_info)\n",
        "print(guardian_info[\"firstname\"])\n",
        "print(varx)\n"
      ],
      "execution_count": 14,
      "outputs": [
        {
          "output_type": "stream",
          "text": [
            "Juan Dela Cruz\n",
            "22.5\n",
            "[55, 70, 60, 90, 50]\n",
            "['Coding', 'Drawing', 'Singing']\n",
            "['1', 1, 2.2, 'Bike']\n",
            "(55, 70, 60, 90, 50)\n",
            "('Coding', 'Drawing', 'Singing')\n",
            "('1', 1, 2.2, 'Bike')\n",
            "False\n",
            "{'firstname': 'Cristina', 'lastname': 'Dela Fuente', 'contactno': '09065772562', 'age': 45}\n",
            "Cristina\n",
            "None\n"
          ],
          "name": "stdout"
        }
      ]
    },
    {
      "cell_type": "markdown",
      "metadata": {
        "id": "9ZGBF9RqyJXT",
        "colab_type": "text"
      },
      "source": [
        "We will be exploring these data types throughout the modules"
      ]
    },
    {
      "cell_type": "markdown",
      "metadata": {
        "id": "FMDk9R1fyJXU",
        "colab_type": "text"
      },
      "source": [
        "## 3. Python is a Dynamically typed language\n",
        "This means it determines what data type a variable should be based on the value it is assigned at runtime in each line of code "
      ]
    },
    {
      "cell_type": "code",
      "metadata": {
        "id": "7dO-4SEcyJXW",
        "colab_type": "code",
        "colab": {
          "base_uri": "https://localhost:8080/",
          "height": 52
        },
        "outputId": "929bbcba-33db-4ae7-bf0b-45f41c60e6b6"
      },
      "source": [
        "# Assign a number (int literal) to value variable\n",
        "value = 123 \n",
        "print(value)\n",
        "# Assign a string literal to the same value variable\n",
        "value = \"Some Word\"\n",
        "print(value)"
      ],
      "execution_count": 15,
      "outputs": [
        {
          "output_type": "stream",
          "text": [
            "123\n",
            "Some Word\n"
          ],
          "name": "stdout"
        }
      ]
    },
    {
      "cell_type": "markdown",
      "metadata": {
        "id": "-UsK4C5CyJXb",
        "colab_type": "text"
      },
      "source": [
        "Python automatically determines the data type at runtime when the program is executed which is also why Python is known as a **Dynamically Typed Language**."
      ]
    },
    {
      "cell_type": "code",
      "metadata": {
        "id": "LN6Whd4GyJXc",
        "colab_type": "code",
        "colab": {
          "base_uri": "https://localhost:8080/",
          "height": 69
        },
        "outputId": "80598628-2a8c-4112-a426-040a88ad0938"
      },
      "source": [
        "# Recall age\n",
        "age = 22\n",
        "# We'll use the type() built-in function to look at its type\n",
        "print(type(age))\n",
        "# In Python, the data type of a variable can change over time\n",
        "age = 22.5\n",
        "print(type(age))\n",
        "# Exercise this knowledge with caution\n",
        "age = \"22.5\"\n",
        "print(type(age))"
      ],
      "execution_count": 16,
      "outputs": [
        {
          "output_type": "stream",
          "text": [
            "<class 'int'>\n",
            "<class 'float'>\n",
            "<class 'str'>\n"
          ],
          "name": "stdout"
        }
      ]
    },
    {
      "cell_type": "markdown",
      "metadata": {
        "id": "FZtJra-OyJXi",
        "colab_type": "text"
      },
      "source": [
        "Normally, this wouldn't be readily possible in Compiled Languages such as C where memory is pre-allocated when we declare the variable's data type.\n",
        "``` C\n",
        "// in C\n",
        "int value = 123;\n",
        "```"
      ]
    },
    {
      "cell_type": "markdown",
      "metadata": {
        "id": "ZcocsCN-yJXi",
        "colab_type": "text"
      },
      "source": [
        "## 4.1 Multiple Variable Assignment\n",
        "We can assign values to multiple variables all in one line. It has to be in the correct order though"
      ]
    },
    {
      "cell_type": "code",
      "metadata": {
        "id": "AwIO4GYEyJXk",
        "colab_type": "code",
        "colab": {
          "base_uri": "https://localhost:8080/",
          "height": 34
        },
        "outputId": "69521758-33cb-4742-a84a-0e5b5941921a"
      },
      "source": [
        "# Earlier, we did assignment of multiple variables like this\n",
        "name = 'Juan Dela Cruz'\n",
        "age = 22\n",
        "# But in Python we can also assign multiple variables in a single line\n",
        "# This is called multiple variable assignment\n",
        "# int name = \"Juan Dela Cruz\", age = 22; // in C\n",
        "name, age = 'Juan Dela Cruz', 22\n",
        "# or \n",
        "name, age = ('Juan Dela Cruz', 22)\n",
        "print(name, age)"
      ],
      "execution_count": 17,
      "outputs": [
        {
          "output_type": "stream",
          "text": [
            "Juan Dela Cruz 22\n"
          ],
          "name": "stdout"
        }
      ]
    },
    {
      "cell_type": "markdown",
      "metadata": {
        "id": "sJMcN1w6yJXp",
        "colab_type": "text"
      },
      "source": [
        "## 4.2 String Formatting / Displaying Variable Data\n",
        "To display data along with our messages (most likely in string), in the latest version of Python, we have 3 alternatives to choose from. We can use use the **f-strings**, using the **.format()** method, and using **C-style string formatting** or simply by using print()."
      ]
    },
    {
      "cell_type": "code",
      "metadata": {
        "id": "4c1tRV4ryJXp",
        "colab_type": "code",
        "colab": {
          "base_uri": "https://localhost:8080/",
          "height": 86
        },
        "outputId": "849e4040-9b89-4f90-cd1f-cd329bb91c21"
      },
      "source": [
        "print(f\"Your name is {name} and your age is {age}\")\n",
        "print(\"Your name is %s and your age is %i\" % (name, age))\n",
        "print(\"Your name is {} and your age is {}\".format(name, age))\n",
        "print(\"Your name is\", name, \"and your age is\", age)"
      ],
      "execution_count": 18,
      "outputs": [
        {
          "output_type": "stream",
          "text": [
            "Your name is Juan Dela Cruz and your age is 22\n",
            "Your name is Juan Dela Cruz and your age is 22\n",
            "Your name is Juan Dela Cruz and your age is 22\n",
            "Your name is Juan Dela Cruz and your age is 22\n"
          ],
          "name": "stdout"
        }
      ]
    },
    {
      "cell_type": "markdown",
      "metadata": {
        "id": "2fVE1tOmyJXu",
        "colab_type": "text"
      },
      "source": [
        "## 4.3 Variable Value Swapping\n",
        "Variable value swapping is a handy technique in some algorithms were you need to swap the values of two variables, it's most useful in implementing algorithms."
      ]
    },
    {
      "cell_type": "code",
      "metadata": {
        "id": "OHa8lIH9yJXv",
        "colab_type": "code",
        "colab": {},
        "outputId": "5666ad5a-0522-4d18-ba61-5ae560b2a326"
      },
      "source": [
        "# In Compiled languages, to perform a swap of values \n",
        "# You would need to do the swap with a temporary variable \n",
        "a = 1\n",
        "b = 2\n",
        "print(f\"Before: {a}, {b}\")\n",
        "tmp = b # tmp becomes 2\n",
        "b = a # becomes 1\n",
        "a = tmp # a becomes 2\n",
        "print(f\"After: {a}, {b}\")"
      ],
      "execution_count": 0,
      "outputs": [
        {
          "output_type": "stream",
          "text": [
            "Before: 1, 2\n",
            "After: 2, 1\n"
          ],
          "name": "stdout"
        }
      ]
    },
    {
      "cell_type": "code",
      "metadata": {
        "id": "mwPyh0RdyJX2",
        "colab_type": "code",
        "colab": {
          "base_uri": "https://localhost:8080/",
          "height": 52
        },
        "outputId": "13cd43dc-0be4-4539-aa37-104abc7583b9"
      },
      "source": [
        "# In Python, we can do a more simpler approach which doesn't need a 3rd variable\n",
        "a, b = 4, 5\n",
        "print(f\"Before: {a}, {b}\")\n",
        "b, a = a, b\n",
        "print(f\"After: {a}, {b}\")"
      ],
      "execution_count": 19,
      "outputs": [
        {
          "output_type": "stream",
          "text": [
            "Before: 4, 5\n",
            "After: 5, 4\n"
          ],
          "name": "stdout"
        }
      ]
    },
    {
      "cell_type": "markdown",
      "metadata": {
        "id": "sgpzL0wuyJX9",
        "colab_type": "text"
      },
      "source": [
        "## 5. Operators \n",
        "In Python there are different kinds of operators as with other programming languages: **Arithemtic**, **Relational**, **Boolean**, and **Bitwise** operators."
      ]
    },
    {
      "cell_type": "markdown",
      "metadata": {
        "id": "2CqVg3fuyJX-",
        "colab_type": "text"
      },
      "source": [
        "## 5.1 Arithmetic Operators\n",
        "Arithmetic Operations are primarily used on int and float values, there are some exceptions for other data types but only for some arithmetic operators though they're name is different."
      ]
    },
    {
      "cell_type": "code",
      "metadata": {
        "id": "UENMoiceyJX_",
        "colab_type": "code",
        "colab": {
          "base_uri": "https://localhost:8080/",
          "height": 156
        },
        "outputId": "192eb4e6-a099-4811-edf3-bd07caaa4a56"
      },
      "source": [
        "# Arithmetic Operators (+, -, *, /, //, %, **)\n",
        "# Addition (Sum)\n",
        "print(1+2)\n",
        "\n",
        "# Subtraction (Difference)\n",
        "print(1-2)\n",
        "\n",
        "# Multiplication\n",
        "print(1*2)\n",
        "\n",
        "# Division (quotient automatically results in float if result included a decimal)\n",
        "print(1/2)\n",
        "\n",
        "# Floor division (ex. 0.5 ~ 0)\n",
        "print(1//2)\n",
        "\n",
        "# Modulo Operation (Remainder)\n",
        "print(1%2)\n",
        "print(9%2)\n",
        "\n",
        "# Exponent\n",
        "print(2**5)"
      ],
      "execution_count": 21,
      "outputs": [
        {
          "output_type": "stream",
          "text": [
            "3\n",
            "-1\n",
            "2\n",
            "0.5\n",
            "0\n",
            "1\n",
            "1\n",
            "32\n"
          ],
          "name": "stdout"
        }
      ]
    },
    {
      "cell_type": "markdown",
      "metadata": {
        "id": "Ug_F_Z_syJYH",
        "colab_type": "text"
      },
      "source": [
        "**Reminder:** You can store these operations/computations in variables."
      ]
    },
    {
      "cell_type": "code",
      "metadata": {
        "id": "Q8Fkb4tOyJYH",
        "colab_type": "code",
        "colab": {},
        "outputId": "6115ab76-0b5f-46a8-c1c2-2885aa079e3e"
      },
      "source": [
        "num1, num2 = 1, 2\n",
        "sum = num1 + num2\n",
        "print(sum)"
      ],
      "execution_count": 0,
      "outputs": [
        {
          "output_type": "stream",
          "text": [
            "3\n"
          ],
          "name": "stdout"
        }
      ]
    },
    {
      "cell_type": "markdown",
      "metadata": {
        "id": "_ybDLIeRyJYO",
        "colab_type": "text"
      },
      "source": [
        "Some examples where some arithmetic operators can be used on other data types but have different effect are in (but not limited to) strings. We'll explore lists and tuples later. "
      ]
    },
    {
      "cell_type": "code",
      "metadata": {
        "id": "jJAJrpG1yJYO",
        "colab_type": "code",
        "colab": {},
        "outputId": "14f884ef-b602-4c8a-84aa-266afe321375"
      },
      "source": [
        "# What happens when we apply the addition operator (+) to Strings\n",
        "first_name = \"John\"\n",
        "last_name = \"Doe\"\n",
        "# Addition causes Concatenation or Appending (from left to right)\n",
        "print(first_name + last_name)\n",
        "print(first_name + \" \" + last_name) \n",
        "\n",
        "# Multiplication\n",
        "print(\"Hi there! \" * 10)\n",
        "# Subtraction, Division, Modulo and other Arithmetic Operators are \n",
        "# not supported by strings"
      ],
      "execution_count": 0,
      "outputs": [
        {
          "output_type": "stream",
          "text": [
            "JohnDoe\n",
            "John Doe\n",
            "Hi there! Hi there! Hi there! Hi there! Hi there! Hi there! Hi there! Hi there! Hi there! Hi there! \n"
          ],
          "name": "stdout"
        }
      ]
    },
    {
      "cell_type": "markdown",
      "metadata": {
        "id": "SfS9NqopyJYT",
        "colab_type": "text"
      },
      "source": [
        "## 5.2 Relational Operators\n",
        "Relational operators describes comparisons between two values. Relational operators only results in 2 values: **True** or **False**. "
      ]
    },
    {
      "cell_type": "code",
      "metadata": {
        "id": "KFz94p4-yJYU",
        "colab_type": "code",
        "colab": {},
        "outputId": "b766875e-66ea-47a2-9f5d-747aec2a20c0"
      },
      "source": [
        "# Relational Operators (>,<,==,!=, >=, <=)\n",
        "# Greater than\n",
        "print(2 > 1)\n",
        "# Less than\n",
        "print(2 < 1)\n",
        "# Equal\n",
        "print(2 == 1)\n",
        "print(2 == 2)\n",
        "# Not equal\n",
        "print(2 != 1)\n",
        "# Greater than or equal\n",
        "print(2 >= 1)\n",
        "# Less than or equal \n",
        "print(2 <= 1)"
      ],
      "execution_count": 0,
      "outputs": [
        {
          "output_type": "stream",
          "text": [
            "True\n",
            "False\n",
            "False\n",
            "True\n",
            "True\n",
            "True\n",
            "False\n"
          ],
          "name": "stdout"
        }
      ]
    },
    {
      "cell_type": "markdown",
      "metadata": {
        "id": "V895OXkwyJYa",
        "colab_type": "text"
      },
      "source": [
        "Relational operators(involving greater than or less than) are mostly used in numbers and the Equality/Non-Equality operators can be used in Strings, Lists, and Tupples "
      ]
    },
    {
      "cell_type": "code",
      "metadata": {
        "id": "uExb5gFuyJYb",
        "colab_type": "code",
        "colab": {
          "base_uri": "https://localhost:8080/",
          "height": 52
        },
        "outputId": "32ca86af-e0bc-4257-f237-fe329863e785"
      },
      "source": [
        "name1 = \"Jake\"\n",
        "name2 = \"Bake\"\n",
        "print(name1 == name2)\n",
        "name2 = \"Jake\"\n",
        "print(name1 == name2)"
      ],
      "execution_count": 25,
      "outputs": [
        {
          "output_type": "stream",
          "text": [
            "False\n",
            "True\n"
          ],
          "name": "stdout"
        }
      ]
    },
    {
      "cell_type": "markdown",
      "metadata": {
        "id": "aoC0S0VDyJYg",
        "colab_type": "text"
      },
      "source": [
        "## 5.3 Boolean Operators\n",
        "Boolean Operators deal with values that are either **True(1)** or **False(0)**. This can come from a variable assigned with a True or False value or from Relational Operator Comparisons (more common)."
      ]
    },
    {
      "cell_type": "code",
      "metadata": {
        "id": "_hrYJfajyJYg",
        "colab_type": "code",
        "colab": {
          "base_uri": "https://localhost:8080/",
          "height": 86
        },
        "outputId": "f196fdc7-835f-415d-f300-ccf2a7f017b2"
      },
      "source": [
        "# Boolean Operators (and, or, not) \n",
        "# Note: the keywords are case sensitive\n",
        "# 4 Possible combinations with the and keyword and two Boolean values\n",
        "print(False and False)\n",
        "print(False and True)\n",
        "print(True and False)\n",
        "print(True and True) "
      ],
      "execution_count": 28,
      "outputs": [
        {
          "output_type": "stream",
          "text": [
            "False\n",
            "False\n",
            "False\n",
            "True\n"
          ],
          "name": "stdout"
        }
      ]
    },
    {
      "cell_type": "markdown",
      "metadata": {
        "id": "qVo5diH8yJYl",
        "colab_type": "text"
      },
      "source": [
        "The ***and*** operator will remain False unless both values are True."
      ]
    },
    {
      "cell_type": "code",
      "metadata": {
        "id": "66uy0MDfyJYm",
        "colab_type": "code",
        "colab": {},
        "outputId": "9d874395-b0be-4b55-a7e5-d7ad05ffa3c2"
      },
      "source": [
        "# 4 Possible combinations with the or keyword and two Boolean values\n",
        "print(False or False)\n",
        "print(False or True)\n",
        "print(True or False)\n",
        "print(True or True) "
      ],
      "execution_count": 0,
      "outputs": [
        {
          "output_type": "stream",
          "text": [
            "False\n",
            "True\n",
            "True\n",
            "True\n"
          ],
          "name": "stdout"
        }
      ]
    },
    {
      "cell_type": "markdown",
      "metadata": {
        "id": "PhNiwNgjyJYr",
        "colab_type": "text"
      },
      "source": [
        "The ***or*** operator will remain True unless both values are False."
      ]
    },
    {
      "cell_type": "code",
      "metadata": {
        "id": "dsAuaLCRyJYr",
        "colab_type": "code",
        "colab": {},
        "outputId": "cbb26b09-4add-4b3c-b982-95e7f5bd3adb"
      },
      "source": [
        "# Not (gets the complement or opposite of the Boolean Value) \n",
        "print(not True)\n",
        "print(not False)"
      ],
      "execution_count": 0,
      "outputs": [
        {
          "output_type": "stream",
          "text": [
            "False\n",
            "True\n"
          ],
          "name": "stdout"
        }
      ]
    },
    {
      "cell_type": "markdown",
      "metadata": {
        "id": "oSs4GAOnyJYw",
        "colab_type": "text"
      },
      "source": [
        "**Note:** True or False values can be derived from the result when operations involving Relational operators are performed."
      ]
    },
    {
      "cell_type": "code",
      "metadata": {
        "id": "2MJx-knYyJYy",
        "colab_type": "code",
        "colab": {
          "base_uri": "https://localhost:8080/",
          "height": 34
        },
        "outputId": "d7494ebd-086b-427e-ad1b-c280a2cd0cdc"
      },
      "source": [
        "response = \"yes\"\n",
        "# Print the result when yes or Yes is evaluated\n",
        "print(response == \"yes\" or response == \"Yes\")"
      ],
      "execution_count": 31,
      "outputs": [
        {
          "output_type": "stream",
          "text": [
            "True\n"
          ],
          "name": "stdout"
        }
      ]
    },
    {
      "cell_type": "markdown",
      "metadata": {
        "id": "NozHQoFjyJY3",
        "colab_type": "text"
      },
      "source": [
        "## 5.3 Bitwise Operators\n",
        "Operators that are used in low level operations are Bitwise Operators. Bits are binary digits whose only values are 1 and 0. Everything you see in a program eventually gets converted to 1's and 0's. We can directly perform operations with numbers and characters at their bit values. These operations are similar to some Boolean Operators and some operators in Discrete Math such as XOR."
      ]
    },
    {
      "cell_type": "code",
      "metadata": {
        "id": "b-pQxPyfyJY3",
        "colab_type": "code",
        "colab": {
          "base_uri": "https://localhost:8080/",
          "height": 121
        },
        "outputId": "042b8677-0132-46ed-f553-cf93acfa9d02"
      },
      "source": [
        "# Bitwise AND\n",
        "print(1 & 0)  # The result will only be 1 when both bits are 1\n",
        "# Bitwise OR\n",
        "print(1 | 0)  # When at least one of the bit is 1, the result will immediately be 1\n",
        "# Bitwise Complement\n",
        "print(~1) # If 1 then complement or opposite is 0, likewise if 0 then complement is 1\n",
        "# Bitwise XOR\n",
        "print(1 ^ 0)  # When the two bits are not of the same value, the result is 1 (w/c means 1 ^ 0 or 0 ^ 1 will result in 1)\n",
        "# Bitwise Shift (left)\n",
        "print(1 << 3) # 00000001 shift/move 1 three times to the left => # 00001000 => decimal equivalent is 8\n",
        "# Bitwise Shift (right)\n",
        "print(1 >> 2) # 00000001 shift/move 1 two times to the left => # 000000000|00 => decimal equivalent is 0"
      ],
      "execution_count": 32,
      "outputs": [
        {
          "output_type": "stream",
          "text": [
            "0\n",
            "1\n",
            "-2\n",
            "1\n",
            "8\n",
            "0\n"
          ],
          "name": "stdout"
        }
      ]
    }
  ]
}